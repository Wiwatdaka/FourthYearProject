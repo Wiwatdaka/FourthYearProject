{
  "nbformat": 4,
  "nbformat_minor": 0,
  "metadata": {
    "colab": {
      "name": "ANN.ipynb",
      "provenance": [],
      "include_colab_link": true
    },
    "kernelspec": {
      "name": "python3",
      "display_name": "Python 3"
    }
  },
  "cells": [
    {
      "cell_type": "markdown",
      "metadata": {
        "id": "view-in-github",
        "colab_type": "text"
      },
      "source": [
        "<a href=\"https://colab.research.google.com/github/Wiwatdaka/FinalYearProject/blob/master/ANN.ipynb\" target=\"_parent\"><img src=\"https://colab.research.google.com/assets/colab-badge.svg\" alt=\"Open In Colab\"/></a>"
      ]
    },
    {
      "cell_type": "code",
      "metadata": {
        "id": "ViMdduZjR6C3",
        "colab_type": "code",
        "outputId": "fd1ca41e-57cc-47e3-c41c-3b0a9465f7c2",
        "colab": {
          "base_uri": "https://localhost:8080/",
          "height": 120
        }
      },
      "source": [
        "from google.colab import drive\n",
        "drive.mount('/content/drive')"
      ],
      "execution_count": 0,
      "outputs": [
        {
          "output_type": "stream",
          "text": [
            "Go to this URL in a browser: https://accounts.google.com/o/oauth2/auth?client_id=947318989803-6bn6qk8qdgf4n4g3pfee6491hc0brc4i.apps.googleusercontent.com&redirect_uri=urn%3aietf%3awg%3aoauth%3a2.0%3aoob&response_type=code&scope=email%20https%3a%2f%2fwww.googleapis.com%2fauth%2fdocs.test%20https%3a%2f%2fwww.googleapis.com%2fauth%2fdrive%20https%3a%2f%2fwww.googleapis.com%2fauth%2fdrive.photos.readonly%20https%3a%2f%2fwww.googleapis.com%2fauth%2fpeopleapi.readonly\n",
            "\n",
            "Enter your authorization code:\n",
            "··········\n",
            "Mounted at /content/drive\n"
          ],
          "name": "stdout"
        }
      ]
    },
    {
      "cell_type": "code",
      "metadata": {
        "id": "DP0-HaTdQZ2V",
        "colab_type": "code",
        "colab": {}
      },
      "source": [
        "import keras\n",
        "from tensorflow.keras import Sequential\n",
        "from tensorflow.keras.layers import Dense\n",
        "import numpy as np\n",
        "import pandas as pd\n",
        "import matplotlib.pyplot as plt\n",
        "from sklearn.metrics import accuracy_score"
      ],
      "execution_count": 0,
      "outputs": []
    },
    {
      "cell_type": "code",
      "metadata": {
        "id": "fmV1O1thRnvX",
        "colab_type": "code",
        "colab": {}
      },
      "source": [
        "df = pd.read_csv('/content/drive/My Drive/Colab Notebooks/onehr.data',sep=',',header=None,date_parser=True)"
      ],
      "execution_count": 0,
      "outputs": []
    },
    {
      "cell_type": "code",
      "metadata": {
        "id": "j0zHKTpvRnyo",
        "colab_type": "code",
        "colab": {}
      },
      "source": [
        "from sklearn.preprocessing import StandardScaler\n",
        "scaler = StandardScaler()"
      ],
      "execution_count": 0,
      "outputs": []
    },
    {
      "cell_type": "code",
      "metadata": {
        "id": "Bi18_aU8Rntz",
        "colab_type": "code",
        "outputId": "8c8992c1-b3d7-46eb-eefa-d28777e027c7",
        "colab": {
          "base_uri": "https://localhost:8080/",
          "height": 33
        }
      },
      "source": [
        "df.replace('?', np.nan, inplace=True)\n",
        "df.shape"
      ],
      "execution_count": 0,
      "outputs": [
        {
          "output_type": "execute_result",
          "data": {
            "text/plain": [
              "(2536, 74)"
            ]
          },
          "metadata": {
            "tags": []
          },
          "execution_count": 44
        }
      ]
    },
    {
      "cell_type": "code",
      "metadata": {
        "id": "uDER663HRnqh",
        "colab_type": "code",
        "outputId": "886baa10-6f4d-487b-bf9f-ab676d9e866e",
        "colab": {
          "base_uri": "https://localhost:8080/",
          "height": 33
        }
      },
      "source": [
        "df.dropna(inplace=True,axis=0)\n",
        "df.shape"
      ],
      "execution_count": 0,
      "outputs": [
        {
          "output_type": "execute_result",
          "data": {
            "text/plain": [
              "(1848, 74)"
            ]
          },
          "metadata": {
            "tags": []
          },
          "execution_count": 45
        }
      ]
    },
    {
      "cell_type": "code",
      "metadata": {
        "id": "rvmc5ie3SvCo",
        "colab_type": "code",
        "colab": {}
      },
      "source": [
        "y=df[73]"
      ],
      "execution_count": 0,
      "outputs": []
    },
    {
      "cell_type": "code",
      "metadata": {
        "id": "KmFL3O7uSvF5",
        "colab_type": "code",
        "outputId": "7f3fef61-8f05-461f-a511-541665eb1f3a",
        "colab": {
          "base_uri": "https://localhost:8080/",
          "height": 216
        }
      },
      "source": [
        "df1=df.drop(df[[0, 73]],axis=1)\n",
        "df1.head()"
      ],
      "execution_count": 0,
      "outputs": [
        {
          "output_type": "execute_result",
          "data": {
            "text/html": [
              "<div>\n",
              "<style scoped>\n",
              "    .dataframe tbody tr th:only-of-type {\n",
              "        vertical-align: middle;\n",
              "    }\n",
              "\n",
              "    .dataframe tbody tr th {\n",
              "        vertical-align: top;\n",
              "    }\n",
              "\n",
              "    .dataframe thead th {\n",
              "        text-align: right;\n",
              "    }\n",
              "</style>\n",
              "<table border=\"1\" class=\"dataframe\">\n",
              "  <thead>\n",
              "    <tr style=\"text-align: right;\">\n",
              "      <th></th>\n",
              "      <th>1</th>\n",
              "      <th>2</th>\n",
              "      <th>3</th>\n",
              "      <th>4</th>\n",
              "      <th>5</th>\n",
              "      <th>6</th>\n",
              "      <th>7</th>\n",
              "      <th>8</th>\n",
              "      <th>9</th>\n",
              "      <th>10</th>\n",
              "      <th>11</th>\n",
              "      <th>12</th>\n",
              "      <th>13</th>\n",
              "      <th>14</th>\n",
              "      <th>15</th>\n",
              "      <th>16</th>\n",
              "      <th>17</th>\n",
              "      <th>18</th>\n",
              "      <th>19</th>\n",
              "      <th>20</th>\n",
              "      <th>21</th>\n",
              "      <th>22</th>\n",
              "      <th>23</th>\n",
              "      <th>24</th>\n",
              "      <th>25</th>\n",
              "      <th>26</th>\n",
              "      <th>27</th>\n",
              "      <th>28</th>\n",
              "      <th>29</th>\n",
              "      <th>30</th>\n",
              "      <th>31</th>\n",
              "      <th>32</th>\n",
              "      <th>33</th>\n",
              "      <th>34</th>\n",
              "      <th>35</th>\n",
              "      <th>36</th>\n",
              "      <th>37</th>\n",
              "      <th>38</th>\n",
              "      <th>39</th>\n",
              "      <th>40</th>\n",
              "      <th>41</th>\n",
              "      <th>42</th>\n",
              "      <th>43</th>\n",
              "      <th>44</th>\n",
              "      <th>45</th>\n",
              "      <th>46</th>\n",
              "      <th>47</th>\n",
              "      <th>48</th>\n",
              "      <th>49</th>\n",
              "      <th>50</th>\n",
              "      <th>51</th>\n",
              "      <th>52</th>\n",
              "      <th>53</th>\n",
              "      <th>54</th>\n",
              "      <th>55</th>\n",
              "      <th>56</th>\n",
              "      <th>57</th>\n",
              "      <th>58</th>\n",
              "      <th>59</th>\n",
              "      <th>60</th>\n",
              "      <th>61</th>\n",
              "      <th>62</th>\n",
              "      <th>63</th>\n",
              "      <th>64</th>\n",
              "      <th>65</th>\n",
              "      <th>66</th>\n",
              "      <th>67</th>\n",
              "      <th>68</th>\n",
              "      <th>69</th>\n",
              "      <th>70</th>\n",
              "      <th>71</th>\n",
              "      <th>72</th>\n",
              "    </tr>\n",
              "  </thead>\n",
              "  <tbody>\n",
              "    <tr>\n",
              "      <th>0</th>\n",
              "      <td>0.8</td>\n",
              "      <td>1.8</td>\n",
              "      <td>2.4</td>\n",
              "      <td>2.1</td>\n",
              "      <td>2</td>\n",
              "      <td>2.1</td>\n",
              "      <td>1.5</td>\n",
              "      <td>1.7</td>\n",
              "      <td>1.9</td>\n",
              "      <td>2.3</td>\n",
              "      <td>3.7</td>\n",
              "      <td>5.5</td>\n",
              "      <td>5.1</td>\n",
              "      <td>5.4</td>\n",
              "      <td>5.4</td>\n",
              "      <td>4.7</td>\n",
              "      <td>4.3</td>\n",
              "      <td>3.5</td>\n",
              "      <td>3.5</td>\n",
              "      <td>2.9</td>\n",
              "      <td>3.2</td>\n",
              "      <td>3.2</td>\n",
              "      <td>2.8</td>\n",
              "      <td>2.6</td>\n",
              "      <td>5.5</td>\n",
              "      <td>3.1</td>\n",
              "      <td>5.2</td>\n",
              "      <td>6.1</td>\n",
              "      <td>6.1</td>\n",
              "      <td>6.1</td>\n",
              "      <td>6.1</td>\n",
              "      <td>5.6</td>\n",
              "      <td>5.2</td>\n",
              "      <td>5.4</td>\n",
              "      <td>7.2</td>\n",
              "      <td>10.6</td>\n",
              "      <td>14.5</td>\n",
              "      <td>17.2</td>\n",
              "      <td>18.3</td>\n",
              "      <td>18.9</td>\n",
              "      <td>19.1</td>\n",
              "      <td>18.9</td>\n",
              "      <td>18.3</td>\n",
              "      <td>17.3</td>\n",
              "      <td>16.8</td>\n",
              "      <td>16.1</td>\n",
              "      <td>15.4</td>\n",
              "      <td>14.9</td>\n",
              "      <td>14.8</td>\n",
              "      <td>15</td>\n",
              "      <td>19.1</td>\n",
              "      <td>12.5</td>\n",
              "      <td>6.7</td>\n",
              "      <td>0.11</td>\n",
              "      <td>3.83</td>\n",
              "      <td>0.14</td>\n",
              "      <td>1612</td>\n",
              "      <td>-2.3</td>\n",
              "      <td>0.3</td>\n",
              "      <td>7.18</td>\n",
              "      <td>0.12</td>\n",
              "      <td>3178.5</td>\n",
              "      <td>-15.5</td>\n",
              "      <td>0.15</td>\n",
              "      <td>10.67</td>\n",
              "      <td>-1.56</td>\n",
              "      <td>5795</td>\n",
              "      <td>-12.1</td>\n",
              "      <td>17.9</td>\n",
              "      <td>10330</td>\n",
              "      <td>-55</td>\n",
              "      <td>0</td>\n",
              "    </tr>\n",
              "    <tr>\n",
              "      <th>1</th>\n",
              "      <td>2.8</td>\n",
              "      <td>3.2</td>\n",
              "      <td>3.3</td>\n",
              "      <td>2.7</td>\n",
              "      <td>3.3</td>\n",
              "      <td>3.2</td>\n",
              "      <td>2.9</td>\n",
              "      <td>2.8</td>\n",
              "      <td>3.1</td>\n",
              "      <td>3.4</td>\n",
              "      <td>4.2</td>\n",
              "      <td>4.5</td>\n",
              "      <td>4.5</td>\n",
              "      <td>4.3</td>\n",
              "      <td>5.5</td>\n",
              "      <td>5.1</td>\n",
              "      <td>3.8</td>\n",
              "      <td>3</td>\n",
              "      <td>2.6</td>\n",
              "      <td>3</td>\n",
              "      <td>2.2</td>\n",
              "      <td>2.3</td>\n",
              "      <td>2.5</td>\n",
              "      <td>2.8</td>\n",
              "      <td>5.5</td>\n",
              "      <td>3.4</td>\n",
              "      <td>15.1</td>\n",
              "      <td>15.3</td>\n",
              "      <td>15.6</td>\n",
              "      <td>15.6</td>\n",
              "      <td>15.9</td>\n",
              "      <td>16.2</td>\n",
              "      <td>16.2</td>\n",
              "      <td>16.2</td>\n",
              "      <td>16.6</td>\n",
              "      <td>17.8</td>\n",
              "      <td>19.4</td>\n",
              "      <td>20.6</td>\n",
              "      <td>21.2</td>\n",
              "      <td>21.8</td>\n",
              "      <td>22.4</td>\n",
              "      <td>22.1</td>\n",
              "      <td>20.8</td>\n",
              "      <td>19.1</td>\n",
              "      <td>18.1</td>\n",
              "      <td>17.2</td>\n",
              "      <td>16.5</td>\n",
              "      <td>16.1</td>\n",
              "      <td>16</td>\n",
              "      <td>16.2</td>\n",
              "      <td>22.4</td>\n",
              "      <td>17.8</td>\n",
              "      <td>9</td>\n",
              "      <td>0.25</td>\n",
              "      <td>-0.41</td>\n",
              "      <td>9.53</td>\n",
              "      <td>1594.5</td>\n",
              "      <td>-2.2</td>\n",
              "      <td>0.96</td>\n",
              "      <td>8.24</td>\n",
              "      <td>7.3</td>\n",
              "      <td>3172</td>\n",
              "      <td>-14.5</td>\n",
              "      <td>0.48</td>\n",
              "      <td>8.39</td>\n",
              "      <td>3.84</td>\n",
              "      <td>5805</td>\n",
              "      <td>14.05</td>\n",
              "      <td>29</td>\n",
              "      <td>10275</td>\n",
              "      <td>-55</td>\n",
              "      <td>0</td>\n",
              "    </tr>\n",
              "    <tr>\n",
              "      <th>2</th>\n",
              "      <td>2.9</td>\n",
              "      <td>2.8</td>\n",
              "      <td>2.6</td>\n",
              "      <td>2.1</td>\n",
              "      <td>2.2</td>\n",
              "      <td>2.5</td>\n",
              "      <td>2.5</td>\n",
              "      <td>2.7</td>\n",
              "      <td>2.2</td>\n",
              "      <td>2.5</td>\n",
              "      <td>3.1</td>\n",
              "      <td>4</td>\n",
              "      <td>4.4</td>\n",
              "      <td>4.6</td>\n",
              "      <td>5.6</td>\n",
              "      <td>5.4</td>\n",
              "      <td>5.2</td>\n",
              "      <td>4.4</td>\n",
              "      <td>3.5</td>\n",
              "      <td>2.7</td>\n",
              "      <td>2.9</td>\n",
              "      <td>3.9</td>\n",
              "      <td>4.1</td>\n",
              "      <td>4.6</td>\n",
              "      <td>5.6</td>\n",
              "      <td>3.5</td>\n",
              "      <td>16.6</td>\n",
              "      <td>16.7</td>\n",
              "      <td>16.7</td>\n",
              "      <td>16.8</td>\n",
              "      <td>16.8</td>\n",
              "      <td>16.8</td>\n",
              "      <td>16.9</td>\n",
              "      <td>16.9</td>\n",
              "      <td>17.1</td>\n",
              "      <td>17.6</td>\n",
              "      <td>19.1</td>\n",
              "      <td>21.3</td>\n",
              "      <td>21.8</td>\n",
              "      <td>22</td>\n",
              "      <td>22.1</td>\n",
              "      <td>22.2</td>\n",
              "      <td>21.3</td>\n",
              "      <td>19.8</td>\n",
              "      <td>18.6</td>\n",
              "      <td>18</td>\n",
              "      <td>18</td>\n",
              "      <td>18.2</td>\n",
              "      <td>18.3</td>\n",
              "      <td>18.4</td>\n",
              "      <td>22.2</td>\n",
              "      <td>18.7</td>\n",
              "      <td>9</td>\n",
              "      <td>0.56</td>\n",
              "      <td>0.89</td>\n",
              "      <td>10.17</td>\n",
              "      <td>1568.5</td>\n",
              "      <td>0.9</td>\n",
              "      <td>0.54</td>\n",
              "      <td>3.8</td>\n",
              "      <td>4.42</td>\n",
              "      <td>3160</td>\n",
              "      <td>-15.9</td>\n",
              "      <td>0.6</td>\n",
              "      <td>6.94</td>\n",
              "      <td>9.8</td>\n",
              "      <td>5790</td>\n",
              "      <td>17.9</td>\n",
              "      <td>41.3</td>\n",
              "      <td>10235</td>\n",
              "      <td>-40</td>\n",
              "      <td>0</td>\n",
              "    </tr>\n",
              "    <tr>\n",
              "      <th>3</th>\n",
              "      <td>4.7</td>\n",
              "      <td>3.8</td>\n",
              "      <td>3.7</td>\n",
              "      <td>3.8</td>\n",
              "      <td>2.9</td>\n",
              "      <td>3.1</td>\n",
              "      <td>2.8</td>\n",
              "      <td>2.5</td>\n",
              "      <td>2.4</td>\n",
              "      <td>3.1</td>\n",
              "      <td>3.3</td>\n",
              "      <td>3.1</td>\n",
              "      <td>2.3</td>\n",
              "      <td>2.1</td>\n",
              "      <td>2.2</td>\n",
              "      <td>3.8</td>\n",
              "      <td>2.8</td>\n",
              "      <td>2.4</td>\n",
              "      <td>1.9</td>\n",
              "      <td>3.2</td>\n",
              "      <td>4.1</td>\n",
              "      <td>3.9</td>\n",
              "      <td>4.5</td>\n",
              "      <td>4.3</td>\n",
              "      <td>4.7</td>\n",
              "      <td>3.2</td>\n",
              "      <td>18.3</td>\n",
              "      <td>18.2</td>\n",
              "      <td>18.3</td>\n",
              "      <td>18.4</td>\n",
              "      <td>18.6</td>\n",
              "      <td>18.6</td>\n",
              "      <td>18.5</td>\n",
              "      <td>18.7</td>\n",
              "      <td>18.6</td>\n",
              "      <td>18.8</td>\n",
              "      <td>19</td>\n",
              "      <td>19</td>\n",
              "      <td>19.3</td>\n",
              "      <td>19.4</td>\n",
              "      <td>19.6</td>\n",
              "      <td>19.2</td>\n",
              "      <td>18.9</td>\n",
              "      <td>18.8</td>\n",
              "      <td>18.6</td>\n",
              "      <td>18.5</td>\n",
              "      <td>18.3</td>\n",
              "      <td>18.5</td>\n",
              "      <td>18.8</td>\n",
              "      <td>18.9</td>\n",
              "      <td>19.6</td>\n",
              "      <td>18.7</td>\n",
              "      <td>9.9</td>\n",
              "      <td>0.89</td>\n",
              "      <td>-0.34</td>\n",
              "      <td>8.58</td>\n",
              "      <td>1546.5</td>\n",
              "      <td>3</td>\n",
              "      <td>0.77</td>\n",
              "      <td>4.17</td>\n",
              "      <td>8.11</td>\n",
              "      <td>3145.5</td>\n",
              "      <td>-16.8</td>\n",
              "      <td>0.49</td>\n",
              "      <td>8.73</td>\n",
              "      <td>10.54</td>\n",
              "      <td>5775</td>\n",
              "      <td>31.15</td>\n",
              "      <td>51.7</td>\n",
              "      <td>10195</td>\n",
              "      <td>-40</td>\n",
              "      <td>2.08</td>\n",
              "    </tr>\n",
              "    <tr>\n",
              "      <th>6</th>\n",
              "      <td>3.7</td>\n",
              "      <td>3.2</td>\n",
              "      <td>3.8</td>\n",
              "      <td>5.1</td>\n",
              "      <td>6</td>\n",
              "      <td>7</td>\n",
              "      <td>6.3</td>\n",
              "      <td>6.4</td>\n",
              "      <td>6.3</td>\n",
              "      <td>5.4</td>\n",
              "      <td>6.1</td>\n",
              "      <td>6.4</td>\n",
              "      <td>6.1</td>\n",
              "      <td>5.8</td>\n",
              "      <td>6.2</td>\n",
              "      <td>6.2</td>\n",
              "      <td>5.5</td>\n",
              "      <td>4.8</td>\n",
              "      <td>5.5</td>\n",
              "      <td>6.1</td>\n",
              "      <td>5</td>\n",
              "      <td>3.1</td>\n",
              "      <td>2.2</td>\n",
              "      <td>1.6</td>\n",
              "      <td>7</td>\n",
              "      <td>5.2</td>\n",
              "      <td>15.6</td>\n",
              "      <td>15.6</td>\n",
              "      <td>15.5</td>\n",
              "      <td>15.8</td>\n",
              "      <td>14.7</td>\n",
              "      <td>12</td>\n",
              "      <td>10.4</td>\n",
              "      <td>9</td>\n",
              "      <td>8.1</td>\n",
              "      <td>8.4</td>\n",
              "      <td>8.8</td>\n",
              "      <td>8.8</td>\n",
              "      <td>8.7</td>\n",
              "      <td>8.6</td>\n",
              "      <td>8.3</td>\n",
              "      <td>8.2</td>\n",
              "      <td>7.8</td>\n",
              "      <td>7.7</td>\n",
              "      <td>7.4</td>\n",
              "      <td>7.3</td>\n",
              "      <td>7.3</td>\n",
              "      <td>7.1</td>\n",
              "      <td>6.6</td>\n",
              "      <td>5.7</td>\n",
              "      <td>15.8</td>\n",
              "      <td>9.7</td>\n",
              "      <td>12.6</td>\n",
              "      <td>0.98</td>\n",
              "      <td>0.48</td>\n",
              "      <td>7.46</td>\n",
              "      <td>1413</td>\n",
              "      <td>4.6</td>\n",
              "      <td>0.53</td>\n",
              "      <td>13.36</td>\n",
              "      <td>15.34</td>\n",
              "      <td>3027.5</td>\n",
              "      <td>-11.8</td>\n",
              "      <td>0.84</td>\n",
              "      <td>6.86</td>\n",
              "      <td>25.6</td>\n",
              "      <td>5695</td>\n",
              "      <td>26.75</td>\n",
              "      <td>48.45</td>\n",
              "      <td>10040</td>\n",
              "      <td>-80</td>\n",
              "      <td>0.18</td>\n",
              "    </tr>\n",
              "  </tbody>\n",
              "</table>\n",
              "</div>"
            ],
            "text/plain": [
              "    1    2    3    4    5    6   ...    67     68     69     70   71    72\n",
              "0  0.8  1.8  2.4  2.1    2  2.1  ...  5795  -12.1   17.9  10330  -55     0\n",
              "1  2.8  3.2  3.3  2.7  3.3  3.2  ...  5805  14.05     29  10275  -55     0\n",
              "2  2.9  2.8  2.6  2.1  2.2  2.5  ...  5790   17.9   41.3  10235  -40     0\n",
              "3  4.7  3.8  3.7  3.8  2.9  3.1  ...  5775  31.15   51.7  10195  -40  2.08\n",
              "6  3.7  3.2  3.8  5.1    6    7  ...  5695  26.75  48.45  10040  -80  0.18\n",
              "\n",
              "[5 rows x 72 columns]"
            ]
          },
          "metadata": {
            "tags": []
          },
          "execution_count": 47
        }
      ]
    },
    {
      "cell_type": "code",
      "metadata": {
        "id": "eXPQ8iV8SvRE",
        "colab_type": "code",
        "outputId": "4db933b8-6cdb-4b5b-913c-f8cedaec85f7",
        "colab": {
          "base_uri": "https://localhost:8080/",
          "height": 33
        }
      },
      "source": [
        "df1.shape"
      ],
      "execution_count": 0,
      "outputs": [
        {
          "output_type": "execute_result",
          "data": {
            "text/plain": [
              "(1848, 72)"
            ]
          },
          "metadata": {
            "tags": []
          },
          "execution_count": 48
        }
      ]
    },
    {
      "cell_type": "code",
      "metadata": {
        "id": "vysaP8DHdDGI",
        "colab_type": "code",
        "outputId": "08b8e0d0-14e0-43b0-95c0-bdd38db2e9a6",
        "colab": {
          "base_uri": "https://localhost:8080/",
          "height": 33
        }
      },
      "source": [
        "scaler.fit(df1)"
      ],
      "execution_count": 0,
      "outputs": [
        {
          "output_type": "execute_result",
          "data": {
            "text/plain": [
              "StandardScaler(copy=True, with_mean=True, with_std=True)"
            ]
          },
          "metadata": {
            "tags": []
          },
          "execution_count": 49
        }
      ]
    },
    {
      "cell_type": "code",
      "metadata": {
        "id": "ieHwQQyBdDJa",
        "colab_type": "code",
        "colab": {}
      },
      "source": [
        "scaled_features = scaler.transform(df1)"
      ],
      "execution_count": 0,
      "outputs": []
    },
    {
      "cell_type": "code",
      "metadata": {
        "id": "HWpwuMS-SvUg",
        "colab_type": "code",
        "colab": {}
      },
      "source": [
        "train_pct_index = int(0.9 * len(scaled_features))\n",
        "X_train, X_test = scaled_features[:train_pct_index], scaled_features[train_pct_index:]\n",
        "y_train, y_test = y[:train_pct_index], y[train_pct_index:]"
      ],
      "execution_count": 0,
      "outputs": []
    },
    {
      "cell_type": "code",
      "metadata": {
        "id": "ovOkzWlUSvWu",
        "colab_type": "code",
        "outputId": "6b6b9fa7-d554-488d-8415-17325960b0cd",
        "colab": {
          "base_uri": "https://localhost:8080/",
          "height": 33
        }
      },
      "source": [
        "X_train.shape, X_test.shape"
      ],
      "execution_count": 0,
      "outputs": [
        {
          "output_type": "execute_result",
          "data": {
            "text/plain": [
              "((1663, 72), (185, 72))"
            ]
          },
          "metadata": {
            "tags": []
          },
          "execution_count": 52
        }
      ]
    },
    {
      "cell_type": "code",
      "metadata": {
        "id": "gwD-EbFoSvAz",
        "colab_type": "code",
        "outputId": "f21be751-0fc2-41f7-9c92-ffa574b2e838",
        "colab": {
          "base_uri": "https://localhost:8080/",
          "height": 33
        }
      },
      "source": [
        "y_train.shape, y_test.shape"
      ],
      "execution_count": 0,
      "outputs": [
        {
          "output_type": "execute_result",
          "data": {
            "text/plain": [
              "((1663,), (185,))"
            ]
          },
          "metadata": {
            "tags": []
          },
          "execution_count": 53
        }
      ]
    },
    {
      "cell_type": "code",
      "metadata": {
        "id": "0B-RK6wlSu-E",
        "colab_type": "code",
        "colab": {}
      },
      "source": [
        "ann = keras.Sequential([\n",
        "    keras.layers.Dense(16, activation='relu', input_shape=(72,)),\n",
        "    keras.layers.Dense(32, activation='relu'),\n",
        "    keras.layers.Dense(2, activation='softmax')\n",
        "])"
      ],
      "execution_count": 0,
      "outputs": []
    },
    {
      "cell_type": "code",
      "metadata": {
        "id": "s-vHer_kRGhH",
        "colab_type": "code",
        "colab": {}
      },
      "source": [
        "ann.compile(optimizer='adam',\n",
        "              loss='sparse_categorical_crossentropy',\n",
        "              metrics=['accuracy'])"
      ],
      "execution_count": 0,
      "outputs": []
    },
    {
      "cell_type": "code",
      "metadata": {
        "id": "RaYgFLHAT9x1",
        "colab_type": "code",
        "outputId": "4aab2a90-1dea-47b6-d129-e9bf931da890",
        "colab": {
          "base_uri": "https://localhost:8080/",
          "height": 368
        }
      },
      "source": [
        "ann.fit(X_train, y_train, epochs=10)"
      ],
      "execution_count": 0,
      "outputs": [
        {
          "output_type": "stream",
          "text": [
            "Epoch 1/10\n",
            "1663/1663 [==============================] - 0s 183us/step - loss: 0.1537 - acc: 0.9669\n",
            "Epoch 2/10\n",
            "1663/1663 [==============================] - 0s 46us/step - loss: 0.1172 - acc: 0.9669\n",
            "Epoch 3/10\n",
            "1663/1663 [==============================] - 0s 41us/step - loss: 0.1095 - acc: 0.9669\n",
            "Epoch 4/10\n",
            "1663/1663 [==============================] - 0s 46us/step - loss: 0.1027 - acc: 0.9669\n",
            "Epoch 5/10\n",
            "1663/1663 [==============================] - 0s 43us/step - loss: 0.0970 - acc: 0.9669\n",
            "Epoch 6/10\n",
            "1663/1663 [==============================] - 0s 44us/step - loss: 0.0938 - acc: 0.9669\n",
            "Epoch 7/10\n",
            "1663/1663 [==============================] - 0s 40us/step - loss: 0.0894 - acc: 0.9669\n",
            "Epoch 8/10\n",
            "1663/1663 [==============================] - 0s 42us/step - loss: 0.0855 - acc: 0.9669\n",
            "Epoch 9/10\n",
            "1663/1663 [==============================] - 0s 44us/step - loss: 0.0818 - acc: 0.9669\n",
            "Epoch 10/10\n",
            "1663/1663 [==============================] - 0s 44us/step - loss: 0.0792 - acc: 0.9669\n"
          ],
          "name": "stdout"
        },
        {
          "output_type": "execute_result",
          "data": {
            "text/plain": [
              "<keras.callbacks.History at 0x7f882172f860>"
            ]
          },
          "metadata": {
            "tags": []
          },
          "execution_count": 56
        }
      ]
    },
    {
      "cell_type": "code",
      "metadata": {
        "id": "YHYS2lKpT96g",
        "colab_type": "code",
        "outputId": "8ced63be-ecf4-419b-e54e-7f8b2eb62ce7",
        "colab": {
          "base_uri": "https://localhost:8080/",
          "height": 50
        }
      },
      "source": [
        "test_loss, test_acc = ann.evaluate(X_test,  y_test, verbose=2)\n",
        "print('\\nTest accuracy:', test_acc)"
      ],
      "execution_count": 0,
      "outputs": [
        {
          "output_type": "stream",
          "text": [
            "\n",
            "Test accuracy: 0.9891891891891892\n"
          ],
          "name": "stdout"
        }
      ]
    },
    {
      "cell_type": "code",
      "metadata": {
        "id": "-fZkzd0uT-GQ",
        "colab_type": "code",
        "colab": {}
      },
      "source": [
        ""
      ],
      "execution_count": 0,
      "outputs": []
    },
    {
      "cell_type": "code",
      "metadata": {
        "id": "p5eW6DwnT-Jk",
        "colab_type": "code",
        "colab": {}
      },
      "source": [
        ""
      ],
      "execution_count": 0,
      "outputs": []
    },
    {
      "cell_type": "code",
      "metadata": {
        "id": "3XqcNn8IT-Ee",
        "colab_type": "code",
        "colab": {}
      },
      "source": [
        ""
      ],
      "execution_count": 0,
      "outputs": []
    },
    {
      "cell_type": "code",
      "metadata": {
        "id": "47i7MtidT-Bh",
        "colab_type": "code",
        "colab": {}
      },
      "source": [
        ""
      ],
      "execution_count": 0,
      "outputs": []
    }
  ]
}