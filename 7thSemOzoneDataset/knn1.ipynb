{
  "nbformat": 4,
  "nbformat_minor": 0,
  "metadata": {
    "kernelspec": {
      "display_name": "Python 3",
      "language": "python",
      "name": "python3"
    },
    "language_info": {
      "codemirror_mode": {
        "name": "ipython",
        "version": 3
      },
      "file_extension": ".py",
      "mimetype": "text/x-python",
      "name": "python",
      "nbconvert_exporter": "python",
      "pygments_lexer": "ipython3",
      "version": "3.7.4"
    },
    "colab": {
      "name": "knn1.ipynb",
      "provenance": [],
      "include_colab_link": true
    }
  },
  "cells": [
    {
      "cell_type": "markdown",
      "metadata": {
        "id": "view-in-github",
        "colab_type": "text"
      },
      "source": [
        "<a href=\"https://colab.research.google.com/github/Wiwatdaka/FinalYearProject/blob/master/knn1.ipynb\" target=\"_parent\"><img src=\"https://colab.research.google.com/assets/colab-badge.svg\" alt=\"Open In Colab\"/></a>"
      ]
    },
    {
      "cell_type": "code",
      "metadata": {
        "id": "qHCaWKtM2BOg",
        "colab_type": "code",
        "outputId": "538adabd-3d13-4e1b-fb76-78b8d756f0f3",
        "colab": {
          "base_uri": "https://localhost:8080/",
          "height": 120
        }
      },
      "source": [
        "from google.colab import drive\n",
        "drive.mount('/content/drive')"
      ],
      "execution_count": 0,
      "outputs": [
        {
          "output_type": "stream",
          "text": [
            "Go to this URL in a browser: https://accounts.google.com/o/oauth2/auth?client_id=947318989803-6bn6qk8qdgf4n4g3pfee6491hc0brc4i.apps.googleusercontent.com&redirect_uri=urn%3aietf%3awg%3aoauth%3a2.0%3aoob&response_type=code&scope=email%20https%3a%2f%2fwww.googleapis.com%2fauth%2fdocs.test%20https%3a%2f%2fwww.googleapis.com%2fauth%2fdrive%20https%3a%2f%2fwww.googleapis.com%2fauth%2fdrive.photos.readonly%20https%3a%2f%2fwww.googleapis.com%2fauth%2fpeopleapi.readonly\n",
            "\n",
            "Enter your authorization code:\n",
            "··········\n",
            "Mounted at /content/drive\n"
          ],
          "name": "stdout"
        }
      ]
    },
    {
      "cell_type": "code",
      "metadata": {
        "id": "pa2VLMhWFj3Z",
        "colab_type": "code",
        "colab": {}
      },
      "source": [
        "import pandas as pd\n",
        "import matplotlib.pyplot as plt\n",
        "import numpy as np\n",
        "\n",
        "%matplotlib inline"
      ],
      "execution_count": 0,
      "outputs": []
    },
    {
      "cell_type": "code",
      "metadata": {
        "id": "XNZQa0yAFj3j",
        "colab_type": "code",
        "colab": {}
      },
      "source": [
        "df = pd.read_csv('/content/drive/My Drive/Colab Notebooks/onehr.data',sep=',',header=None,date_parser=True)"
      ],
      "execution_count": 0,
      "outputs": []
    },
    {
      "cell_type": "code",
      "metadata": {
        "id": "_KEJ3fRDFj3p",
        "colab_type": "code",
        "outputId": "743dddf5-be82-4f9c-f697-dd8a39b6a350",
        "colab": {
          "base_uri": "https://localhost:8080/",
          "height": 33
        }
      },
      "source": [
        "df.shape"
      ],
      "execution_count": 0,
      "outputs": [
        {
          "output_type": "execute_result",
          "data": {
            "text/plain": [
              "(2536, 74)"
            ]
          },
          "metadata": {
            "tags": []
          },
          "execution_count": 45
        }
      ]
    },
    {
      "cell_type": "code",
      "metadata": {
        "id": "FUb71ipzFj3v",
        "colab_type": "code",
        "colab": {}
      },
      "source": [
        "from sklearn.preprocessing import StandardScaler\n",
        "scaler = StandardScaler()"
      ],
      "execution_count": 0,
      "outputs": []
    },
    {
      "cell_type": "code",
      "metadata": {
        "id": "neyNXt7yFj3y",
        "colab_type": "code",
        "colab": {}
      },
      "source": [
        "df.replace('?', np.nan, inplace=True)"
      ],
      "execution_count": 0,
      "outputs": []
    },
    {
      "cell_type": "code",
      "metadata": {
        "id": "YuPjrKj-Fj31",
        "colab_type": "code",
        "outputId": "47d85046-e7ba-4913-80fe-854edbf4b4b5",
        "colab": {
          "base_uri": "https://localhost:8080/",
          "height": 33
        }
      },
      "source": [
        "df.dropna(inplace=True,axis=0)\n",
        "df.shape"
      ],
      "execution_count": 0,
      "outputs": [
        {
          "output_type": "execute_result",
          "data": {
            "text/plain": [
              "(1848, 74)"
            ]
          },
          "metadata": {
            "tags": []
          },
          "execution_count": 48
        }
      ]
    },
    {
      "cell_type": "code",
      "metadata": {
        "id": "V1KOg0MhFj33",
        "colab_type": "code",
        "colab": {}
      },
      "source": [
        "y=df[73]"
      ],
      "execution_count": 0,
      "outputs": []
    },
    {
      "cell_type": "code",
      "metadata": {
        "id": "viWoEz2UFj36",
        "colab_type": "code",
        "outputId": "1584597a-a8df-4ac6-e1ba-896bfa90ead9",
        "colab": {
          "base_uri": "https://localhost:8080/",
          "height": 216
        }
      },
      "source": [
        "df1=df.drop(df[[0, 73]],axis=1)\n",
        "df1.head()"
      ],
      "execution_count": 0,
      "outputs": [
        {
          "output_type": "execute_result",
          "data": {
            "text/html": [
              "<div>\n",
              "<style scoped>\n",
              "    .dataframe tbody tr th:only-of-type {\n",
              "        vertical-align: middle;\n",
              "    }\n",
              "\n",
              "    .dataframe tbody tr th {\n",
              "        vertical-align: top;\n",
              "    }\n",
              "\n",
              "    .dataframe thead th {\n",
              "        text-align: right;\n",
              "    }\n",
              "</style>\n",
              "<table border=\"1\" class=\"dataframe\">\n",
              "  <thead>\n",
              "    <tr style=\"text-align: right;\">\n",
              "      <th></th>\n",
              "      <th>1</th>\n",
              "      <th>2</th>\n",
              "      <th>3</th>\n",
              "      <th>4</th>\n",
              "      <th>5</th>\n",
              "      <th>6</th>\n",
              "      <th>7</th>\n",
              "      <th>8</th>\n",
              "      <th>9</th>\n",
              "      <th>10</th>\n",
              "      <th>11</th>\n",
              "      <th>12</th>\n",
              "      <th>13</th>\n",
              "      <th>14</th>\n",
              "      <th>15</th>\n",
              "      <th>16</th>\n",
              "      <th>17</th>\n",
              "      <th>18</th>\n",
              "      <th>19</th>\n",
              "      <th>20</th>\n",
              "      <th>21</th>\n",
              "      <th>22</th>\n",
              "      <th>23</th>\n",
              "      <th>24</th>\n",
              "      <th>25</th>\n",
              "      <th>26</th>\n",
              "      <th>27</th>\n",
              "      <th>28</th>\n",
              "      <th>29</th>\n",
              "      <th>30</th>\n",
              "      <th>31</th>\n",
              "      <th>32</th>\n",
              "      <th>33</th>\n",
              "      <th>34</th>\n",
              "      <th>35</th>\n",
              "      <th>36</th>\n",
              "      <th>37</th>\n",
              "      <th>38</th>\n",
              "      <th>39</th>\n",
              "      <th>40</th>\n",
              "      <th>41</th>\n",
              "      <th>42</th>\n",
              "      <th>43</th>\n",
              "      <th>44</th>\n",
              "      <th>45</th>\n",
              "      <th>46</th>\n",
              "      <th>47</th>\n",
              "      <th>48</th>\n",
              "      <th>49</th>\n",
              "      <th>50</th>\n",
              "      <th>51</th>\n",
              "      <th>52</th>\n",
              "      <th>53</th>\n",
              "      <th>54</th>\n",
              "      <th>55</th>\n",
              "      <th>56</th>\n",
              "      <th>57</th>\n",
              "      <th>58</th>\n",
              "      <th>59</th>\n",
              "      <th>60</th>\n",
              "      <th>61</th>\n",
              "      <th>62</th>\n",
              "      <th>63</th>\n",
              "      <th>64</th>\n",
              "      <th>65</th>\n",
              "      <th>66</th>\n",
              "      <th>67</th>\n",
              "      <th>68</th>\n",
              "      <th>69</th>\n",
              "      <th>70</th>\n",
              "      <th>71</th>\n",
              "      <th>72</th>\n",
              "    </tr>\n",
              "  </thead>\n",
              "  <tbody>\n",
              "    <tr>\n",
              "      <th>0</th>\n",
              "      <td>0.8</td>\n",
              "      <td>1.8</td>\n",
              "      <td>2.4</td>\n",
              "      <td>2.1</td>\n",
              "      <td>2</td>\n",
              "      <td>2.1</td>\n",
              "      <td>1.5</td>\n",
              "      <td>1.7</td>\n",
              "      <td>1.9</td>\n",
              "      <td>2.3</td>\n",
              "      <td>3.7</td>\n",
              "      <td>5.5</td>\n",
              "      <td>5.1</td>\n",
              "      <td>5.4</td>\n",
              "      <td>5.4</td>\n",
              "      <td>4.7</td>\n",
              "      <td>4.3</td>\n",
              "      <td>3.5</td>\n",
              "      <td>3.5</td>\n",
              "      <td>2.9</td>\n",
              "      <td>3.2</td>\n",
              "      <td>3.2</td>\n",
              "      <td>2.8</td>\n",
              "      <td>2.6</td>\n",
              "      <td>5.5</td>\n",
              "      <td>3.1</td>\n",
              "      <td>5.2</td>\n",
              "      <td>6.1</td>\n",
              "      <td>6.1</td>\n",
              "      <td>6.1</td>\n",
              "      <td>6.1</td>\n",
              "      <td>5.6</td>\n",
              "      <td>5.2</td>\n",
              "      <td>5.4</td>\n",
              "      <td>7.2</td>\n",
              "      <td>10.6</td>\n",
              "      <td>14.5</td>\n",
              "      <td>17.2</td>\n",
              "      <td>18.3</td>\n",
              "      <td>18.9</td>\n",
              "      <td>19.1</td>\n",
              "      <td>18.9</td>\n",
              "      <td>18.3</td>\n",
              "      <td>17.3</td>\n",
              "      <td>16.8</td>\n",
              "      <td>16.1</td>\n",
              "      <td>15.4</td>\n",
              "      <td>14.9</td>\n",
              "      <td>14.8</td>\n",
              "      <td>15</td>\n",
              "      <td>19.1</td>\n",
              "      <td>12.5</td>\n",
              "      <td>6.7</td>\n",
              "      <td>0.11</td>\n",
              "      <td>3.83</td>\n",
              "      <td>0.14</td>\n",
              "      <td>1612</td>\n",
              "      <td>-2.3</td>\n",
              "      <td>0.3</td>\n",
              "      <td>7.18</td>\n",
              "      <td>0.12</td>\n",
              "      <td>3178.5</td>\n",
              "      <td>-15.5</td>\n",
              "      <td>0.15</td>\n",
              "      <td>10.67</td>\n",
              "      <td>-1.56</td>\n",
              "      <td>5795</td>\n",
              "      <td>-12.1</td>\n",
              "      <td>17.9</td>\n",
              "      <td>10330</td>\n",
              "      <td>-55</td>\n",
              "      <td>0</td>\n",
              "    </tr>\n",
              "    <tr>\n",
              "      <th>1</th>\n",
              "      <td>2.8</td>\n",
              "      <td>3.2</td>\n",
              "      <td>3.3</td>\n",
              "      <td>2.7</td>\n",
              "      <td>3.3</td>\n",
              "      <td>3.2</td>\n",
              "      <td>2.9</td>\n",
              "      <td>2.8</td>\n",
              "      <td>3.1</td>\n",
              "      <td>3.4</td>\n",
              "      <td>4.2</td>\n",
              "      <td>4.5</td>\n",
              "      <td>4.5</td>\n",
              "      <td>4.3</td>\n",
              "      <td>5.5</td>\n",
              "      <td>5.1</td>\n",
              "      <td>3.8</td>\n",
              "      <td>3</td>\n",
              "      <td>2.6</td>\n",
              "      <td>3</td>\n",
              "      <td>2.2</td>\n",
              "      <td>2.3</td>\n",
              "      <td>2.5</td>\n",
              "      <td>2.8</td>\n",
              "      <td>5.5</td>\n",
              "      <td>3.4</td>\n",
              "      <td>15.1</td>\n",
              "      <td>15.3</td>\n",
              "      <td>15.6</td>\n",
              "      <td>15.6</td>\n",
              "      <td>15.9</td>\n",
              "      <td>16.2</td>\n",
              "      <td>16.2</td>\n",
              "      <td>16.2</td>\n",
              "      <td>16.6</td>\n",
              "      <td>17.8</td>\n",
              "      <td>19.4</td>\n",
              "      <td>20.6</td>\n",
              "      <td>21.2</td>\n",
              "      <td>21.8</td>\n",
              "      <td>22.4</td>\n",
              "      <td>22.1</td>\n",
              "      <td>20.8</td>\n",
              "      <td>19.1</td>\n",
              "      <td>18.1</td>\n",
              "      <td>17.2</td>\n",
              "      <td>16.5</td>\n",
              "      <td>16.1</td>\n",
              "      <td>16</td>\n",
              "      <td>16.2</td>\n",
              "      <td>22.4</td>\n",
              "      <td>17.8</td>\n",
              "      <td>9</td>\n",
              "      <td>0.25</td>\n",
              "      <td>-0.41</td>\n",
              "      <td>9.53</td>\n",
              "      <td>1594.5</td>\n",
              "      <td>-2.2</td>\n",
              "      <td>0.96</td>\n",
              "      <td>8.24</td>\n",
              "      <td>7.3</td>\n",
              "      <td>3172</td>\n",
              "      <td>-14.5</td>\n",
              "      <td>0.48</td>\n",
              "      <td>8.39</td>\n",
              "      <td>3.84</td>\n",
              "      <td>5805</td>\n",
              "      <td>14.05</td>\n",
              "      <td>29</td>\n",
              "      <td>10275</td>\n",
              "      <td>-55</td>\n",
              "      <td>0</td>\n",
              "    </tr>\n",
              "    <tr>\n",
              "      <th>2</th>\n",
              "      <td>2.9</td>\n",
              "      <td>2.8</td>\n",
              "      <td>2.6</td>\n",
              "      <td>2.1</td>\n",
              "      <td>2.2</td>\n",
              "      <td>2.5</td>\n",
              "      <td>2.5</td>\n",
              "      <td>2.7</td>\n",
              "      <td>2.2</td>\n",
              "      <td>2.5</td>\n",
              "      <td>3.1</td>\n",
              "      <td>4</td>\n",
              "      <td>4.4</td>\n",
              "      <td>4.6</td>\n",
              "      <td>5.6</td>\n",
              "      <td>5.4</td>\n",
              "      <td>5.2</td>\n",
              "      <td>4.4</td>\n",
              "      <td>3.5</td>\n",
              "      <td>2.7</td>\n",
              "      <td>2.9</td>\n",
              "      <td>3.9</td>\n",
              "      <td>4.1</td>\n",
              "      <td>4.6</td>\n",
              "      <td>5.6</td>\n",
              "      <td>3.5</td>\n",
              "      <td>16.6</td>\n",
              "      <td>16.7</td>\n",
              "      <td>16.7</td>\n",
              "      <td>16.8</td>\n",
              "      <td>16.8</td>\n",
              "      <td>16.8</td>\n",
              "      <td>16.9</td>\n",
              "      <td>16.9</td>\n",
              "      <td>17.1</td>\n",
              "      <td>17.6</td>\n",
              "      <td>19.1</td>\n",
              "      <td>21.3</td>\n",
              "      <td>21.8</td>\n",
              "      <td>22</td>\n",
              "      <td>22.1</td>\n",
              "      <td>22.2</td>\n",
              "      <td>21.3</td>\n",
              "      <td>19.8</td>\n",
              "      <td>18.6</td>\n",
              "      <td>18</td>\n",
              "      <td>18</td>\n",
              "      <td>18.2</td>\n",
              "      <td>18.3</td>\n",
              "      <td>18.4</td>\n",
              "      <td>22.2</td>\n",
              "      <td>18.7</td>\n",
              "      <td>9</td>\n",
              "      <td>0.56</td>\n",
              "      <td>0.89</td>\n",
              "      <td>10.17</td>\n",
              "      <td>1568.5</td>\n",
              "      <td>0.9</td>\n",
              "      <td>0.54</td>\n",
              "      <td>3.8</td>\n",
              "      <td>4.42</td>\n",
              "      <td>3160</td>\n",
              "      <td>-15.9</td>\n",
              "      <td>0.6</td>\n",
              "      <td>6.94</td>\n",
              "      <td>9.8</td>\n",
              "      <td>5790</td>\n",
              "      <td>17.9</td>\n",
              "      <td>41.3</td>\n",
              "      <td>10235</td>\n",
              "      <td>-40</td>\n",
              "      <td>0</td>\n",
              "    </tr>\n",
              "    <tr>\n",
              "      <th>3</th>\n",
              "      <td>4.7</td>\n",
              "      <td>3.8</td>\n",
              "      <td>3.7</td>\n",
              "      <td>3.8</td>\n",
              "      <td>2.9</td>\n",
              "      <td>3.1</td>\n",
              "      <td>2.8</td>\n",
              "      <td>2.5</td>\n",
              "      <td>2.4</td>\n",
              "      <td>3.1</td>\n",
              "      <td>3.3</td>\n",
              "      <td>3.1</td>\n",
              "      <td>2.3</td>\n",
              "      <td>2.1</td>\n",
              "      <td>2.2</td>\n",
              "      <td>3.8</td>\n",
              "      <td>2.8</td>\n",
              "      <td>2.4</td>\n",
              "      <td>1.9</td>\n",
              "      <td>3.2</td>\n",
              "      <td>4.1</td>\n",
              "      <td>3.9</td>\n",
              "      <td>4.5</td>\n",
              "      <td>4.3</td>\n",
              "      <td>4.7</td>\n",
              "      <td>3.2</td>\n",
              "      <td>18.3</td>\n",
              "      <td>18.2</td>\n",
              "      <td>18.3</td>\n",
              "      <td>18.4</td>\n",
              "      <td>18.6</td>\n",
              "      <td>18.6</td>\n",
              "      <td>18.5</td>\n",
              "      <td>18.7</td>\n",
              "      <td>18.6</td>\n",
              "      <td>18.8</td>\n",
              "      <td>19</td>\n",
              "      <td>19</td>\n",
              "      <td>19.3</td>\n",
              "      <td>19.4</td>\n",
              "      <td>19.6</td>\n",
              "      <td>19.2</td>\n",
              "      <td>18.9</td>\n",
              "      <td>18.8</td>\n",
              "      <td>18.6</td>\n",
              "      <td>18.5</td>\n",
              "      <td>18.3</td>\n",
              "      <td>18.5</td>\n",
              "      <td>18.8</td>\n",
              "      <td>18.9</td>\n",
              "      <td>19.6</td>\n",
              "      <td>18.7</td>\n",
              "      <td>9.9</td>\n",
              "      <td>0.89</td>\n",
              "      <td>-0.34</td>\n",
              "      <td>8.58</td>\n",
              "      <td>1546.5</td>\n",
              "      <td>3</td>\n",
              "      <td>0.77</td>\n",
              "      <td>4.17</td>\n",
              "      <td>8.11</td>\n",
              "      <td>3145.5</td>\n",
              "      <td>-16.8</td>\n",
              "      <td>0.49</td>\n",
              "      <td>8.73</td>\n",
              "      <td>10.54</td>\n",
              "      <td>5775</td>\n",
              "      <td>31.15</td>\n",
              "      <td>51.7</td>\n",
              "      <td>10195</td>\n",
              "      <td>-40</td>\n",
              "      <td>2.08</td>\n",
              "    </tr>\n",
              "    <tr>\n",
              "      <th>6</th>\n",
              "      <td>3.7</td>\n",
              "      <td>3.2</td>\n",
              "      <td>3.8</td>\n",
              "      <td>5.1</td>\n",
              "      <td>6</td>\n",
              "      <td>7</td>\n",
              "      <td>6.3</td>\n",
              "      <td>6.4</td>\n",
              "      <td>6.3</td>\n",
              "      <td>5.4</td>\n",
              "      <td>6.1</td>\n",
              "      <td>6.4</td>\n",
              "      <td>6.1</td>\n",
              "      <td>5.8</td>\n",
              "      <td>6.2</td>\n",
              "      <td>6.2</td>\n",
              "      <td>5.5</td>\n",
              "      <td>4.8</td>\n",
              "      <td>5.5</td>\n",
              "      <td>6.1</td>\n",
              "      <td>5</td>\n",
              "      <td>3.1</td>\n",
              "      <td>2.2</td>\n",
              "      <td>1.6</td>\n",
              "      <td>7</td>\n",
              "      <td>5.2</td>\n",
              "      <td>15.6</td>\n",
              "      <td>15.6</td>\n",
              "      <td>15.5</td>\n",
              "      <td>15.8</td>\n",
              "      <td>14.7</td>\n",
              "      <td>12</td>\n",
              "      <td>10.4</td>\n",
              "      <td>9</td>\n",
              "      <td>8.1</td>\n",
              "      <td>8.4</td>\n",
              "      <td>8.8</td>\n",
              "      <td>8.8</td>\n",
              "      <td>8.7</td>\n",
              "      <td>8.6</td>\n",
              "      <td>8.3</td>\n",
              "      <td>8.2</td>\n",
              "      <td>7.8</td>\n",
              "      <td>7.7</td>\n",
              "      <td>7.4</td>\n",
              "      <td>7.3</td>\n",
              "      <td>7.3</td>\n",
              "      <td>7.1</td>\n",
              "      <td>6.6</td>\n",
              "      <td>5.7</td>\n",
              "      <td>15.8</td>\n",
              "      <td>9.7</td>\n",
              "      <td>12.6</td>\n",
              "      <td>0.98</td>\n",
              "      <td>0.48</td>\n",
              "      <td>7.46</td>\n",
              "      <td>1413</td>\n",
              "      <td>4.6</td>\n",
              "      <td>0.53</td>\n",
              "      <td>13.36</td>\n",
              "      <td>15.34</td>\n",
              "      <td>3027.5</td>\n",
              "      <td>-11.8</td>\n",
              "      <td>0.84</td>\n",
              "      <td>6.86</td>\n",
              "      <td>25.6</td>\n",
              "      <td>5695</td>\n",
              "      <td>26.75</td>\n",
              "      <td>48.45</td>\n",
              "      <td>10040</td>\n",
              "      <td>-80</td>\n",
              "      <td>0.18</td>\n",
              "    </tr>\n",
              "  </tbody>\n",
              "</table>\n",
              "</div>"
            ],
            "text/plain": [
              "    1    2    3    4    5    6   ...    67     68     69     70   71    72\n",
              "0  0.8  1.8  2.4  2.1    2  2.1  ...  5795  -12.1   17.9  10330  -55     0\n",
              "1  2.8  3.2  3.3  2.7  3.3  3.2  ...  5805  14.05     29  10275  -55     0\n",
              "2  2.9  2.8  2.6  2.1  2.2  2.5  ...  5790   17.9   41.3  10235  -40     0\n",
              "3  4.7  3.8  3.7  3.8  2.9  3.1  ...  5775  31.15   51.7  10195  -40  2.08\n",
              "6  3.7  3.2  3.8  5.1    6    7  ...  5695  26.75  48.45  10040  -80  0.18\n",
              "\n",
              "[5 rows x 72 columns]"
            ]
          },
          "metadata": {
            "tags": []
          },
          "execution_count": 50
        }
      ]
    },
    {
      "cell_type": "code",
      "metadata": {
        "id": "urpX8VzVFj38",
        "colab_type": "code",
        "outputId": "515e0743-b5c1-4396-d974-be255a6916f7",
        "colab": {
          "base_uri": "https://localhost:8080/",
          "height": 33
        }
      },
      "source": [
        "df1.shape"
      ],
      "execution_count": 0,
      "outputs": [
        {
          "output_type": "execute_result",
          "data": {
            "text/plain": [
              "(1848, 72)"
            ]
          },
          "metadata": {
            "tags": []
          },
          "execution_count": 51
        }
      ]
    },
    {
      "cell_type": "code",
      "metadata": {
        "id": "mjlIPzDvFj39",
        "colab_type": "code",
        "outputId": "e5b5040a-d94f-42ab-fa68-1f0e7a29004a",
        "colab": {
          "base_uri": "https://localhost:8080/",
          "height": 33
        }
      },
      "source": [
        "scaler.fit(df1)"
      ],
      "execution_count": 0,
      "outputs": [
        {
          "output_type": "execute_result",
          "data": {
            "text/plain": [
              "StandardScaler(copy=True, with_mean=True, with_std=True)"
            ]
          },
          "metadata": {
            "tags": []
          },
          "execution_count": 52
        }
      ]
    },
    {
      "cell_type": "code",
      "metadata": {
        "id": "xJwSN2ZPFj3_",
        "colab_type": "code",
        "colab": {}
      },
      "source": [
        "scaled_features = scaler.transform(df1)"
      ],
      "execution_count": 0,
      "outputs": []
    },
    {
      "cell_type": "code",
      "metadata": {
        "id": "b1ObOGN8Fj4B",
        "colab_type": "code",
        "outputId": "a2af4ff4-13f1-4a1b-c01f-c74a78596272",
        "colab": {
          "base_uri": "https://localhost:8080/",
          "height": 216
        }
      },
      "source": [
        "df_feat = pd.DataFrame(scaled_features)\n",
        "df_feat.head()"
      ],
      "execution_count": 0,
      "outputs": [
        {
          "output_type": "execute_result",
          "data": {
            "text/html": [
              "<div>\n",
              "<style scoped>\n",
              "    .dataframe tbody tr th:only-of-type {\n",
              "        vertical-align: middle;\n",
              "    }\n",
              "\n",
              "    .dataframe tbody tr th {\n",
              "        vertical-align: top;\n",
              "    }\n",
              "\n",
              "    .dataframe thead th {\n",
              "        text-align: right;\n",
              "    }\n",
              "</style>\n",
              "<table border=\"1\" class=\"dataframe\">\n",
              "  <thead>\n",
              "    <tr style=\"text-align: right;\">\n",
              "      <th></th>\n",
              "      <th>0</th>\n",
              "      <th>1</th>\n",
              "      <th>2</th>\n",
              "      <th>3</th>\n",
              "      <th>4</th>\n",
              "      <th>5</th>\n",
              "      <th>6</th>\n",
              "      <th>7</th>\n",
              "      <th>8</th>\n",
              "      <th>9</th>\n",
              "      <th>10</th>\n",
              "      <th>11</th>\n",
              "      <th>12</th>\n",
              "      <th>13</th>\n",
              "      <th>14</th>\n",
              "      <th>15</th>\n",
              "      <th>16</th>\n",
              "      <th>17</th>\n",
              "      <th>18</th>\n",
              "      <th>19</th>\n",
              "      <th>20</th>\n",
              "      <th>21</th>\n",
              "      <th>22</th>\n",
              "      <th>23</th>\n",
              "      <th>24</th>\n",
              "      <th>25</th>\n",
              "      <th>26</th>\n",
              "      <th>27</th>\n",
              "      <th>28</th>\n",
              "      <th>29</th>\n",
              "      <th>30</th>\n",
              "      <th>31</th>\n",
              "      <th>32</th>\n",
              "      <th>33</th>\n",
              "      <th>34</th>\n",
              "      <th>35</th>\n",
              "      <th>36</th>\n",
              "      <th>37</th>\n",
              "      <th>38</th>\n",
              "      <th>39</th>\n",
              "      <th>40</th>\n",
              "      <th>41</th>\n",
              "      <th>42</th>\n",
              "      <th>43</th>\n",
              "      <th>44</th>\n",
              "      <th>45</th>\n",
              "      <th>46</th>\n",
              "      <th>47</th>\n",
              "      <th>48</th>\n",
              "      <th>49</th>\n",
              "      <th>50</th>\n",
              "      <th>51</th>\n",
              "      <th>52</th>\n",
              "      <th>53</th>\n",
              "      <th>54</th>\n",
              "      <th>55</th>\n",
              "      <th>56</th>\n",
              "      <th>57</th>\n",
              "      <th>58</th>\n",
              "      <th>59</th>\n",
              "      <th>60</th>\n",
              "      <th>61</th>\n",
              "      <th>62</th>\n",
              "      <th>63</th>\n",
              "      <th>64</th>\n",
              "      <th>65</th>\n",
              "      <th>66</th>\n",
              "      <th>67</th>\n",
              "      <th>68</th>\n",
              "      <th>69</th>\n",
              "      <th>70</th>\n",
              "      <th>71</th>\n",
              "    </tr>\n",
              "  </thead>\n",
              "  <tbody>\n",
              "    <tr>\n",
              "      <th>0</th>\n",
              "      <td>-0.661879</td>\n",
              "      <td>0.184751</td>\n",
              "      <td>0.708336</td>\n",
              "      <td>0.485510</td>\n",
              "      <td>0.408454</td>\n",
              "      <td>0.489235</td>\n",
              "      <td>-0.116060</td>\n",
              "      <td>-0.293347</td>\n",
              "      <td>-0.534478</td>\n",
              "      <td>-0.450034</td>\n",
              "      <td>0.556372</td>\n",
              "      <td>1.792138</td>\n",
              "      <td>1.449846</td>\n",
              "      <td>1.597422</td>\n",
              "      <td>1.560971</td>\n",
              "      <td>1.067727</td>\n",
              "      <td>0.861487</td>\n",
              "      <td>0.449388</td>\n",
              "      <td>0.738602</td>\n",
              "      <td>0.486167</td>\n",
              "      <td>0.894625</td>\n",
              "      <td>1.015471</td>\n",
              "      <td>0.790708</td>\n",
              "      <td>0.688908</td>\n",
              "      <td>1.127854</td>\n",
              "      <td>0.852405</td>\n",
              "      <td>-2.030610</td>\n",
              "      <td>-1.833014</td>\n",
              "      <td>-1.776162</td>\n",
              "      <td>-1.726068</td>\n",
              "      <td>-1.684009</td>\n",
              "      <td>-1.721252</td>\n",
              "      <td>-1.747198</td>\n",
              "      <td>-1.756434</td>\n",
              "      <td>-1.704906</td>\n",
              "      <td>-1.473087</td>\n",
              "      <td>-1.129509</td>\n",
              "      <td>-0.895880</td>\n",
              "      <td>-0.837814</td>\n",
              "      <td>-0.821175</td>\n",
              "      <td>-0.837282</td>\n",
              "      <td>-0.873243</td>\n",
              "      <td>-0.918777</td>\n",
              "      <td>-0.956462</td>\n",
              "      <td>-0.877124</td>\n",
              "      <td>-0.843492</td>\n",
              "      <td>-0.838010</td>\n",
              "      <td>-0.825801</td>\n",
              "      <td>-0.760361</td>\n",
              "      <td>-0.657164</td>\n",
              "      <td>-0.990500</td>\n",
              "      <td>-1.284015</td>\n",
              "      <td>-1.474198</td>\n",
              "      <td>-1.830390</td>\n",
              "      <td>0.410146</td>\n",
              "      <td>-0.296239</td>\n",
              "      <td>2.218066</td>\n",
              "      <td>-2.204647</td>\n",
              "      <td>-0.377450</td>\n",
              "      <td>0.318729</td>\n",
              "      <td>-0.141673</td>\n",
              "      <td>0.645982</td>\n",
              "      <td>-1.314655</td>\n",
              "      <td>-0.614268</td>\n",
              "      <td>0.091414</td>\n",
              "      <td>-0.300351</td>\n",
              "      <td>-0.362816</td>\n",
              "      <td>-1.129865</td>\n",
              "      <td>-1.798160</td>\n",
              "      <td>3.161799</td>\n",
              "      <td>-1.587013</td>\n",
              "      <td>-0.284165</td>\n",
              "    </tr>\n",
              "    <tr>\n",
              "      <th>1</th>\n",
              "      <td>0.934821</td>\n",
              "      <td>1.311018</td>\n",
              "      <td>1.447144</td>\n",
              "      <td>0.987922</td>\n",
              "      <td>1.503743</td>\n",
              "      <td>1.439016</td>\n",
              "      <td>1.115064</td>\n",
              "      <td>0.659843</td>\n",
              "      <td>0.489326</td>\n",
              "      <td>0.460788</td>\n",
              "      <td>0.943866</td>\n",
              "      <td>1.066535</td>\n",
              "      <td>1.024051</td>\n",
              "      <td>0.828517</td>\n",
              "      <td>1.631448</td>\n",
              "      <td>1.359313</td>\n",
              "      <td>0.468917</td>\n",
              "      <td>0.044794</td>\n",
              "      <td>0.014113</td>\n",
              "      <td>0.567473</td>\n",
              "      <td>0.076945</td>\n",
              "      <td>0.281823</td>\n",
              "      <td>0.549965</td>\n",
              "      <td>0.845116</td>\n",
              "      <td>1.127854</td>\n",
              "      <td>1.178813</td>\n",
              "      <td>-0.572341</td>\n",
              "      <td>-0.490905</td>\n",
              "      <td>-0.402777</td>\n",
              "      <td>-0.364038</td>\n",
              "      <td>-0.288261</td>\n",
              "      <td>-0.224576</td>\n",
              "      <td>-0.237229</td>\n",
              "      <td>-0.338413</td>\n",
              "      <td>-0.467606</td>\n",
              "      <td>-0.508025</td>\n",
              "      <td>-0.464758</td>\n",
              "      <td>-0.430405</td>\n",
              "      <td>-0.437781</td>\n",
              "      <td>-0.416760</td>\n",
              "      <td>-0.372281</td>\n",
              "      <td>-0.418164</td>\n",
              "      <td>-0.560872</td>\n",
              "      <td>-0.697243</td>\n",
              "      <td>-0.687361</td>\n",
              "      <td>-0.678938</td>\n",
              "      <td>-0.671761</td>\n",
              "      <td>-0.644258</td>\n",
              "      <td>-0.579701</td>\n",
              "      <td>-0.478015</td>\n",
              "      <td>-0.509227</td>\n",
              "      <td>-0.498506</td>\n",
              "      <td>-0.991055</td>\n",
              "      <td>-1.280693</td>\n",
              "      <td>-0.528969</td>\n",
              "      <td>1.245932</td>\n",
              "      <td>1.722371</td>\n",
              "      <td>-2.178328</td>\n",
              "      <td>2.143736</td>\n",
              "      <td>0.486344</td>\n",
              "      <td>1.000093</td>\n",
              "      <td>0.506592</td>\n",
              "      <td>-1.051781</td>\n",
              "      <td>0.735563</td>\n",
              "      <td>-0.152691</td>\n",
              "      <td>0.434538</td>\n",
              "      <td>-0.230688</td>\n",
              "      <td>0.167264</td>\n",
              "      <td>-0.789342</td>\n",
              "      <td>2.105007</td>\n",
              "      <td>-1.587013</td>\n",
              "      <td>-0.284165</td>\n",
              "    </tr>\n",
              "    <tr>\n",
              "      <th>2</th>\n",
              "      <td>1.014656</td>\n",
              "      <td>0.989227</td>\n",
              "      <td>0.872515</td>\n",
              "      <td>0.485510</td>\n",
              "      <td>0.576960</td>\n",
              "      <td>0.834610</td>\n",
              "      <td>0.763314</td>\n",
              "      <td>0.573189</td>\n",
              "      <td>-0.278527</td>\n",
              "      <td>-0.284430</td>\n",
              "      <td>0.091380</td>\n",
              "      <td>0.703733</td>\n",
              "      <td>0.953085</td>\n",
              "      <td>1.038218</td>\n",
              "      <td>1.701924</td>\n",
              "      <td>1.578002</td>\n",
              "      <td>1.568113</td>\n",
              "      <td>1.177656</td>\n",
              "      <td>0.738602</td>\n",
              "      <td>0.323554</td>\n",
              "      <td>0.649321</td>\n",
              "      <td>1.586086</td>\n",
              "      <td>1.833926</td>\n",
              "      <td>2.250995</td>\n",
              "      <td>1.213079</td>\n",
              "      <td>1.287615</td>\n",
              "      <td>-0.351391</td>\n",
              "      <td>-0.286671</td>\n",
              "      <td>-0.243753</td>\n",
              "      <td>-0.191992</td>\n",
              "      <td>-0.160080</td>\n",
              "      <td>-0.139859</td>\n",
              "      <td>-0.141140</td>\n",
              "      <td>-0.246504</td>\n",
              "      <td>-0.401792</td>\n",
              "      <td>-0.534833</td>\n",
              "      <td>-0.505457</td>\n",
              "      <td>-0.334572</td>\n",
              "      <td>-0.355015</td>\n",
              "      <td>-0.388870</td>\n",
              "      <td>-0.414554</td>\n",
              "      <td>-0.403943</td>\n",
              "      <td>-0.489291</td>\n",
              "      <td>-0.596436</td>\n",
              "      <td>-0.614375</td>\n",
              "      <td>-0.559263</td>\n",
              "      <td>-0.445057</td>\n",
              "      <td>-0.326558</td>\n",
              "      <td>-0.233435</td>\n",
              "      <td>-0.149574</td>\n",
              "      <td>-0.538395</td>\n",
              "      <td>-0.365118</td>\n",
              "      <td>-0.991055</td>\n",
              "      <td>-0.063507</td>\n",
              "      <td>-0.241033</td>\n",
              "      <td>1.351043</td>\n",
              "      <td>0.985910</td>\n",
              "      <td>-1.362438</td>\n",
              "      <td>0.539345</td>\n",
              "      <td>-0.215740</td>\n",
              "      <td>0.542115</td>\n",
              "      <td>0.249258</td>\n",
              "      <td>-1.419805</td>\n",
              "      <td>1.226411</td>\n",
              "      <td>-0.307934</td>\n",
              "      <td>1.245638</td>\n",
              "      <td>-0.428880</td>\n",
              "      <td>0.358237</td>\n",
              "      <td>0.328537</td>\n",
              "      <td>1.336431</td>\n",
              "      <td>-1.147401</td>\n",
              "      <td>-0.284165</td>\n",
              "    </tr>\n",
              "    <tr>\n",
              "      <th>3</th>\n",
              "      <td>2.451685</td>\n",
              "      <td>1.793704</td>\n",
              "      <td>1.775503</td>\n",
              "      <td>1.909009</td>\n",
              "      <td>1.166731</td>\n",
              "      <td>1.352673</td>\n",
              "      <td>1.027126</td>\n",
              "      <td>0.399882</td>\n",
              "      <td>-0.107893</td>\n",
              "      <td>0.212382</td>\n",
              "      <td>0.246377</td>\n",
              "      <td>0.050690</td>\n",
              "      <td>-0.537198</td>\n",
              "      <td>-0.709293</td>\n",
              "      <td>-0.694278</td>\n",
              "      <td>0.411660</td>\n",
              "      <td>-0.316223</td>\n",
              "      <td>-0.440718</td>\n",
              "      <td>-0.549378</td>\n",
              "      <td>0.730086</td>\n",
              "      <td>1.630536</td>\n",
              "      <td>1.586086</td>\n",
              "      <td>2.154916</td>\n",
              "      <td>2.016682</td>\n",
              "      <td>0.446050</td>\n",
              "      <td>0.961208</td>\n",
              "      <td>-0.100982</td>\n",
              "      <td>-0.067849</td>\n",
              "      <td>-0.012446</td>\n",
              "      <td>0.037402</td>\n",
              "      <td>0.096282</td>\n",
              "      <td>0.114294</td>\n",
              "      <td>0.078492</td>\n",
              "      <td>-0.010167</td>\n",
              "      <td>-0.204351</td>\n",
              "      <td>-0.373989</td>\n",
              "      <td>-0.519023</td>\n",
              "      <td>-0.649452</td>\n",
              "      <td>-0.699872</td>\n",
              "      <td>-0.751449</td>\n",
              "      <td>-0.766827</td>\n",
              "      <td>-0.830579</td>\n",
              "      <td>-0.832880</td>\n",
              "      <td>-0.740446</td>\n",
              "      <td>-0.614375</td>\n",
              "      <td>-0.484465</td>\n",
              "      <td>-0.399716</td>\n",
              "      <td>-0.281172</td>\n",
              "      <td>-0.158159</td>\n",
              "      <td>-0.074928</td>\n",
              "      <td>-0.917580</td>\n",
              "      <td>-0.365118</td>\n",
              "      <td>-0.801999</td>\n",
              "      <td>1.232208</td>\n",
              "      <td>-0.513464</td>\n",
              "      <td>1.089908</td>\n",
              "      <td>0.362751</td>\n",
              "      <td>-0.809738</td>\n",
              "      <td>1.417940</td>\n",
              "      <td>-0.157233</td>\n",
              "      <td>1.128900</td>\n",
              "      <td>-0.061688</td>\n",
              "      <td>-1.656392</td>\n",
              "      <td>0.776467</td>\n",
              "      <td>-0.116290</td>\n",
              "      <td>1.346345</td>\n",
              "      <td>-0.627072</td>\n",
              "      <td>1.015482</td>\n",
              "      <td>1.273735</td>\n",
              "      <td>0.567854</td>\n",
              "      <td>-1.147401</td>\n",
              "      <td>1.364121</td>\n",
              "    </tr>\n",
              "    <tr>\n",
              "      <th>4</th>\n",
              "      <td>1.653336</td>\n",
              "      <td>1.311018</td>\n",
              "      <td>1.857593</td>\n",
              "      <td>2.997567</td>\n",
              "      <td>3.778573</td>\n",
              "      <td>4.720081</td>\n",
              "      <td>4.104937</td>\n",
              "      <td>3.779373</td>\n",
              "      <td>3.219469</td>\n",
              "      <td>2.116828</td>\n",
              "      <td>2.416341</td>\n",
              "      <td>2.445181</td>\n",
              "      <td>2.159504</td>\n",
              "      <td>1.877023</td>\n",
              "      <td>2.124783</td>\n",
              "      <td>2.161174</td>\n",
              "      <td>1.803655</td>\n",
              "      <td>1.501331</td>\n",
              "      <td>2.348577</td>\n",
              "      <td>3.087973</td>\n",
              "      <td>2.366448</td>\n",
              "      <td>0.933955</td>\n",
              "      <td>0.309222</td>\n",
              "      <td>-0.092136</td>\n",
              "      <td>2.406236</td>\n",
              "      <td>3.137260</td>\n",
              "      <td>-0.498691</td>\n",
              "      <td>-0.447141</td>\n",
              "      <td>-0.417234</td>\n",
              "      <td>-0.335364</td>\n",
              "      <td>-0.459169</td>\n",
              "      <td>-0.817599</td>\n",
              "      <td>-1.033394</td>\n",
              "      <td>-1.283760</td>\n",
              "      <td>-1.586441</td>\n",
              "      <td>-1.767967</td>\n",
              "      <td>-1.902791</td>\n",
              "      <td>-2.045878</td>\n",
              "      <td>-2.162063</td>\n",
              "      <td>-2.257545</td>\n",
              "      <td>-2.359102</td>\n",
              "      <td>-2.394913</td>\n",
              "      <td>-2.421977</td>\n",
              "      <td>-2.338964</td>\n",
              "      <td>-2.249254</td>\n",
              "      <td>-2.159922</td>\n",
              "      <td>-2.062209</td>\n",
              "      <td>-2.005831</td>\n",
              "      <td>-1.994874</td>\n",
              "      <td>-2.045573</td>\n",
              "      <td>-1.471774</td>\n",
              "      <td>-1.699001</td>\n",
              "      <td>-0.234831</td>\n",
              "      <td>1.585584</td>\n",
              "      <td>-0.331843</td>\n",
              "      <td>0.905965</td>\n",
              "      <td>-3.418693</td>\n",
              "      <td>-0.388633</td>\n",
              "      <td>0.501145</td>\n",
              "      <td>1.295954</td>\n",
              "      <td>2.278617</td>\n",
              "      <td>-2.592143</td>\n",
              "      <td>-0.342021</td>\n",
              "      <td>2.208106</td>\n",
              "      <td>-0.316499</td>\n",
              "      <td>3.395868</td>\n",
              "      <td>-1.684098</td>\n",
              "      <td>0.797227</td>\n",
              "      <td>0.978360</td>\n",
              "      <td>-2.410379</td>\n",
              "      <td>-2.319701</td>\n",
              "      <td>-0.141525</td>\n",
              "    </tr>\n",
              "  </tbody>\n",
              "</table>\n",
              "</div>"
            ],
            "text/plain": [
              "         0         1         2   ...        69        70        71\n",
              "0 -0.661879  0.184751  0.708336  ...  3.161799 -1.587013 -0.284165\n",
              "1  0.934821  1.311018  1.447144  ...  2.105007 -1.587013 -0.284165\n",
              "2  1.014656  0.989227  0.872515  ...  1.336431 -1.147401 -0.284165\n",
              "3  2.451685  1.793704  1.775503  ...  0.567854 -1.147401  1.364121\n",
              "4  1.653336  1.311018  1.857593  ... -2.410379 -2.319701 -0.141525\n",
              "\n",
              "[5 rows x 72 columns]"
            ]
          },
          "metadata": {
            "tags": []
          },
          "execution_count": 54
        }
      ]
    },
    {
      "cell_type": "code",
      "metadata": {
        "id": "8kUaD8l2Fj4D",
        "colab_type": "code",
        "colab": {}
      },
      "source": [
        "train_pct_index = int(0.9 * len(scaled_features))\n",
        "X_train, X_test = scaled_features[:train_pct_index], scaled_features[train_pct_index:]\n",
        "y_train, y_test = y[:train_pct_index], y[train_pct_index:]"
      ],
      "execution_count": 0,
      "outputs": []
    },
    {
      "cell_type": "code",
      "metadata": {
        "id": "FFEp_YbFFj4F",
        "colab_type": "code",
        "outputId": "2d07d257-b0c9-4517-aeaf-ce82d3d84767",
        "colab": {
          "base_uri": "https://localhost:8080/",
          "height": 33
        }
      },
      "source": [
        "X_train.shape, X_test.shape"
      ],
      "execution_count": 0,
      "outputs": [
        {
          "output_type": "execute_result",
          "data": {
            "text/plain": [
              "((1663, 72), (185, 72))"
            ]
          },
          "metadata": {
            "tags": []
          },
          "execution_count": 56
        }
      ]
    },
    {
      "cell_type": "code",
      "metadata": {
        "id": "x4T95MyhFj4H",
        "colab_type": "code",
        "outputId": "8f78abb9-35c2-4990-9909-0324e91d7b69",
        "colab": {
          "base_uri": "https://localhost:8080/",
          "height": 33
        }
      },
      "source": [
        "y_train.shape, y_test.shape"
      ],
      "execution_count": 0,
      "outputs": [
        {
          "output_type": "execute_result",
          "data": {
            "text/plain": [
              "((1663,), (185,))"
            ]
          },
          "metadata": {
            "tags": []
          },
          "execution_count": 57
        }
      ]
    },
    {
      "cell_type": "code",
      "metadata": {
        "id": "WqxHbiyMFj4I",
        "colab_type": "code",
        "colab": {}
      },
      "source": [
        "from sklearn.neighbors import KNeighborsClassifier"
      ],
      "execution_count": 0,
      "outputs": []
    },
    {
      "cell_type": "code",
      "metadata": {
        "id": "rRpt8hM_Fj4K",
        "colab_type": "code",
        "colab": {}
      },
      "source": [
        "knn = KNeighborsClassifier(n_neighbors=1)"
      ],
      "execution_count": 0,
      "outputs": []
    },
    {
      "cell_type": "code",
      "metadata": {
        "id": "m0SKNPvDFj4M",
        "colab_type": "code",
        "outputId": "f60835dd-8cde-4d3b-8827-4673712e4dbf",
        "colab": {
          "base_uri": "https://localhost:8080/",
          "height": 67
        }
      },
      "source": [
        "knn.fit(X_train,y_train)"
      ],
      "execution_count": 0,
      "outputs": [
        {
          "output_type": "execute_result",
          "data": {
            "text/plain": [
              "KNeighborsClassifier(algorithm='auto', leaf_size=30, metric='minkowski',\n",
              "                     metric_params=None, n_jobs=None, n_neighbors=1, p=2,\n",
              "                     weights='uniform')"
            ]
          },
          "metadata": {
            "tags": []
          },
          "execution_count": 60
        }
      ]
    },
    {
      "cell_type": "code",
      "metadata": {
        "id": "LTFKHMvOFj4N",
        "colab_type": "code",
        "colab": {}
      },
      "source": [
        "pred = knn.predict(X_test)"
      ],
      "execution_count": 0,
      "outputs": []
    },
    {
      "cell_type": "code",
      "metadata": {
        "id": "5MolNtEtFj4P",
        "colab_type": "code",
        "colab": {}
      },
      "source": [
        "from sklearn.metrics import accuracy_score"
      ],
      "execution_count": 0,
      "outputs": []
    },
    {
      "cell_type": "code",
      "metadata": {
        "id": "3XRYKD4EFj4R",
        "colab_type": "code",
        "colab": {}
      },
      "source": [
        "error_rate = []\n",
        "\n",
        "# Will take some time\n",
        "for i in range(1,40):\n",
        "    \n",
        "    knn = KNeighborsClassifier(n_neighbors=i)\n",
        "    knn.fit(X_train,y_train)\n",
        "    pred_i = knn.predict(X_test)\n",
        "    error_rate.append(np.mean(pred_i != y_test))"
      ],
      "execution_count": 0,
      "outputs": []
    },
    {
      "cell_type": "code",
      "metadata": {
        "id": "YBqNGDOAFj4V",
        "colab_type": "code",
        "outputId": "5ef89a00-f347-4669-9cd7-63540118802f",
        "colab": {
          "base_uri": "https://localhost:8080/",
          "height": 421
        }
      },
      "source": [
        "plt.figure(figsize=(10,6))\n",
        "plt.plot(range(1,40),error_rate,color='blue', linestyle='dashed', marker='o',\n",
        "         markerfacecolor='red', markersize=10)\n",
        "plt.title('Error Rate vs. K Value')\n",
        "plt.xlabel('K')\n",
        "plt.ylabel('Error Rate')"
      ],
      "execution_count": 0,
      "outputs": [
        {
          "output_type": "execute_result",
          "data": {
            "text/plain": [
              "Text(0, 0.5, 'Error Rate')"
            ]
          },
          "metadata": {
            "tags": []
          },
          "execution_count": 64
        },
        {
          "output_type": "display_data",
          "data": {
            "image/png": "[encoded data removed]",
            "text/plain": [
              "<Figure size 720x432 with 1 Axes>"
            ]
          },
          "metadata": {
            "tags": []
          }
        }
      ]
    },
    {
      "cell_type": "code",
      "metadata": {
        "id": "e_O4irekFj4Y",
        "colab_type": "code",
        "colab": {}
      },
      "source": [
        "knn = KNeighborsClassifier(n_neighbors=20)\n",
        "\n",
        "knn.fit(X_train,y_train)\n",
        "pred = knn.predict(X_test)"
      ],
      "execution_count": 0,
      "outputs": []
    },
    {
      "cell_type": "code",
      "metadata": {
        "id": "2rxczseJFj4Z",
        "colab_type": "code",
        "outputId": "ecbf2300-9e7e-4bc9-ce41-c89024502b44",
        "colab": {
          "base_uri": "https://localhost:8080/",
          "height": 67
        }
      },
      "source": [
        "print('k=20')\n",
        "print('\\nTest accuracy:',(accuracy_score(y_test, pred)))"
      ],
      "execution_count": 0,
      "outputs": [
        {
          "output_type": "stream",
          "text": [
            "k=20\n",
            "\n",
            "Test accuracy: 0.9891891891891892\n"
          ],
          "name": "stdout"
        }
      ]
    },
    {
      "cell_type": "code",
      "metadata": {
        "id": "oaY-e1fCFj4b",
        "colab_type": "code",
        "colab": {}
      },
      "source": [
        "+"
      ],
      "execution_count": 0,
      "outputs": []
    }
  ]
}