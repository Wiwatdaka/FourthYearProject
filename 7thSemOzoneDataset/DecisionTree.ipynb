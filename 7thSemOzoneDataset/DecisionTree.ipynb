{
  "nbformat": 4,
  "nbformat_minor": 0,
  "metadata": {
    "colab": {
      "name": "DecisionTree.ipynb",
      "provenance": [],
      "include_colab_link": true
    },
    "kernelspec": {
      "name": "python3",
      "display_name": "Python 3"
    }
  },
  "cells": [
    {
      "cell_type": "markdown",
      "metadata": {
        "id": "view-in-github",
        "colab_type": "text"
      },
      "source": [
        "<a href=\"https://colab.research.google.com/github/Wiwatdaka/FinalYearProject/blob/master/DecisionTree.ipynb\" target=\"_parent\"><img src=\"https://colab.research.google.com/assets/colab-badge.svg\" alt=\"Open In Colab\"/></a>"
      ]
    },
    {
      "cell_type": "code",
      "metadata": {
        "id": "hwLE56WvhRUO",
        "colab_type": "code",
        "colab": {
          "base_uri": "https://localhost:8080/",
          "height": 120
        },
        "outputId": "580d6879-cf4c-4098-f888-6bebf11dfd63"
      },
      "source": [
        "from google.colab import drive\n",
        "drive.mount('/content/drive')"
      ],
      "execution_count": 3,
      "outputs": [
        {
          "output_type": "stream",
          "text": [
            "Go to this URL in a browser: https://accounts.google.com/o/oauth2/auth?client_id=947318989803-6bn6qk8qdgf4n4g3pfee6491hc0brc4i.apps.googleusercontent.com&redirect_uri=urn%3aietf%3awg%3aoauth%3a2.0%3aoob&response_type=code&scope=email%20https%3a%2f%2fwww.googleapis.com%2fauth%2fdocs.test%20https%3a%2f%2fwww.googleapis.com%2fauth%2fdrive%20https%3a%2f%2fwww.googleapis.com%2fauth%2fdrive.photos.readonly%20https%3a%2f%2fwww.googleapis.com%2fauth%2fpeopleapi.readonly\n",
            "\n",
            "Enter your authorization code:\n",
            "··········\n",
            "Mounted at /content/drive\n"
          ],
          "name": "stdout"
        }
      ]
    },
    {
      "cell_type": "code",
      "metadata": {
        "id": "26Y4IdiHMxOe",
        "colab_type": "code",
        "colab": {}
      },
      "source": [
        "import pandas as pd\n",
        "import numpy as np\n",
        "import matplotlib.pyplot as plt\n",
        "import time as t\n",
        "\n",
        "%matplotlib inline"
      ],
      "execution_count": 0,
      "outputs": []
    },
    {
      "cell_type": "code",
      "metadata": {
        "id": "lWV4k1Hoigfv",
        "colab_type": "code",
        "colab": {}
      },
      "source": [
        "df = pd.read_csv('/content/drive/My Drive/Colab Notebooks/onehr.data',sep=',',header=None,date_parser=True)"
      ],
      "execution_count": 0,
      "outputs": []
    },
    {
      "cell_type": "code",
      "metadata": {
        "id": "xgC4irO-igpv",
        "colab_type": "code",
        "colab": {
          "base_uri": "https://localhost:8080/",
          "height": 33
        },
        "outputId": "c1512f16-0ed9-4d37-b899-99f3dd503ed5"
      },
      "source": [
        "df.shape"
      ],
      "execution_count": 33,
      "outputs": [
        {
          "output_type": "execute_result",
          "data": {
            "text/plain": [
              "(2536, 74)"
            ]
          },
          "metadata": {
            "tags": []
          },
          "execution_count": 33
        }
      ]
    },
    {
      "cell_type": "code",
      "metadata": {
        "id": "8vRe72WXigrv",
        "colab_type": "code",
        "colab": {}
      },
      "source": [
        "from sklearn.preprocessing import StandardScaler\n",
        "scaler = StandardScaler()"
      ],
      "execution_count": 0,
      "outputs": []
    },
    {
      "cell_type": "code",
      "metadata": {
        "id": "JcyM_L7PiguQ",
        "colab_type": "code",
        "colab": {}
      },
      "source": [
        "df.replace('?', np.nan, inplace=True)"
      ],
      "execution_count": 0,
      "outputs": []
    },
    {
      "cell_type": "code",
      "metadata": {
        "id": "h2WzwbwPigwq",
        "colab_type": "code",
        "colab": {
          "base_uri": "https://localhost:8080/",
          "height": 33
        },
        "outputId": "c1cde329-02bd-49e3-fa78-11682da3c4fd"
      },
      "source": [
        "df.dropna(inplace=True,axis=0)\n",
        "df.shape"
      ],
      "execution_count": 36,
      "outputs": [
        {
          "output_type": "execute_result",
          "data": {
            "text/plain": [
              "(1848, 74)"
            ]
          },
          "metadata": {
            "tags": []
          },
          "execution_count": 36
        }
      ]
    },
    {
      "cell_type": "code",
      "metadata": {
        "id": "pfec4CE0igzG",
        "colab_type": "code",
        "colab": {}
      },
      "source": [
        "y=df[73]"
      ],
      "execution_count": 0,
      "outputs": []
    },
    {
      "cell_type": "code",
      "metadata": {
        "id": "uGYQbH3aig16",
        "colab_type": "code",
        "colab": {
          "base_uri": "https://localhost:8080/",
          "height": 216
        },
        "outputId": "17cbde4c-c07f-4e1c-c452-3a02b8826c9e"
      },
      "source": [
        "df1=df.drop(df[[0, 73]],axis=1)\n",
        "df1.head()"
      ],
      "execution_count": 38,
      "outputs": [
        {
          "output_type": "execute_result",
          "data": {
            "text/html": [
              "<div>\n",
              "<style scoped>\n",
              "    .dataframe tbody tr th:only-of-type {\n",
              "        vertical-align: middle;\n",
              "    }\n",
              "\n",
              "    .dataframe tbody tr th {\n",
              "        vertical-align: top;\n",
              "    }\n",
              "\n",
              "    .dataframe thead th {\n",
              "        text-align: right;\n",
              "    }\n",
              "</style>\n",
              "<table border=\"1\" class=\"dataframe\">\n",
              "  <thead>\n",
              "    <tr style=\"text-align: right;\">\n",
              "      <th></th>\n",
              "      <th>1</th>\n",
              "      <th>2</th>\n",
              "      <th>3</th>\n",
              "      <th>4</th>\n",
              "      <th>5</th>\n",
              "      <th>6</th>\n",
              "      <th>7</th>\n",
              "      <th>8</th>\n",
              "      <th>9</th>\n",
              "      <th>10</th>\n",
              "      <th>11</th>\n",
              "      <th>12</th>\n",
              "      <th>13</th>\n",
              "      <th>14</th>\n",
              "      <th>15</th>\n",
              "      <th>16</th>\n",
              "      <th>17</th>\n",
              "      <th>18</th>\n",
              "      <th>19</th>\n",
              "      <th>20</th>\n",
              "      <th>21</th>\n",
              "      <th>22</th>\n",
              "      <th>23</th>\n",
              "      <th>24</th>\n",
              "      <th>25</th>\n",
              "      <th>26</th>\n",
              "      <th>27</th>\n",
              "      <th>28</th>\n",
              "      <th>29</th>\n",
              "      <th>30</th>\n",
              "      <th>31</th>\n",
              "      <th>32</th>\n",
              "      <th>33</th>\n",
              "      <th>34</th>\n",
              "      <th>35</th>\n",
              "      <th>36</th>\n",
              "      <th>37</th>\n",
              "      <th>38</th>\n",
              "      <th>39</th>\n",
              "      <th>40</th>\n",
              "      <th>41</th>\n",
              "      <th>42</th>\n",
              "      <th>43</th>\n",
              "      <th>44</th>\n",
              "      <th>45</th>\n",
              "      <th>46</th>\n",
              "      <th>47</th>\n",
              "      <th>48</th>\n",
              "      <th>49</th>\n",
              "      <th>50</th>\n",
              "      <th>51</th>\n",
              "      <th>52</th>\n",
              "      <th>53</th>\n",
              "      <th>54</th>\n",
              "      <th>55</th>\n",
              "      <th>56</th>\n",
              "      <th>57</th>\n",
              "      <th>58</th>\n",
              "      <th>59</th>\n",
              "      <th>60</th>\n",
              "      <th>61</th>\n",
              "      <th>62</th>\n",
              "      <th>63</th>\n",
              "      <th>64</th>\n",
              "      <th>65</th>\n",
              "      <th>66</th>\n",
              "      <th>67</th>\n",
              "      <th>68</th>\n",
              "      <th>69</th>\n",
              "      <th>70</th>\n",
              "      <th>71</th>\n",
              "      <th>72</th>\n",
              "    </tr>\n",
              "  </thead>\n",
              "  <tbody>\n",
              "    <tr>\n",
              "      <th>0</th>\n",
              "      <td>0.8</td>\n",
              "      <td>1.8</td>\n",
              "      <td>2.4</td>\n",
              "      <td>2.1</td>\n",
              "      <td>2</td>\n",
              "      <td>2.1</td>\n",
              "      <td>1.5</td>\n",
              "      <td>1.7</td>\n",
              "      <td>1.9</td>\n",
              "      <td>2.3</td>\n",
              "      <td>3.7</td>\n",
              "      <td>5.5</td>\n",
              "      <td>5.1</td>\n",
              "      <td>5.4</td>\n",
              "      <td>5.4</td>\n",
              "      <td>4.7</td>\n",
              "      <td>4.3</td>\n",
              "      <td>3.5</td>\n",
              "      <td>3.5</td>\n",
              "      <td>2.9</td>\n",
              "      <td>3.2</td>\n",
              "      <td>3.2</td>\n",
              "      <td>2.8</td>\n",
              "      <td>2.6</td>\n",
              "      <td>5.5</td>\n",
              "      <td>3.1</td>\n",
              "      <td>5.2</td>\n",
              "      <td>6.1</td>\n",
              "      <td>6.1</td>\n",
              "      <td>6.1</td>\n",
              "      <td>6.1</td>\n",
              "      <td>5.6</td>\n",
              "      <td>5.2</td>\n",
              "      <td>5.4</td>\n",
              "      <td>7.2</td>\n",
              "      <td>10.6</td>\n",
              "      <td>14.5</td>\n",
              "      <td>17.2</td>\n",
              "      <td>18.3</td>\n",
              "      <td>18.9</td>\n",
              "      <td>19.1</td>\n",
              "      <td>18.9</td>\n",
              "      <td>18.3</td>\n",
              "      <td>17.3</td>\n",
              "      <td>16.8</td>\n",
              "      <td>16.1</td>\n",
              "      <td>15.4</td>\n",
              "      <td>14.9</td>\n",
              "      <td>14.8</td>\n",
              "      <td>15</td>\n",
              "      <td>19.1</td>\n",
              "      <td>12.5</td>\n",
              "      <td>6.7</td>\n",
              "      <td>0.11</td>\n",
              "      <td>3.83</td>\n",
              "      <td>0.14</td>\n",
              "      <td>1612</td>\n",
              "      <td>-2.3</td>\n",
              "      <td>0.3</td>\n",
              "      <td>7.18</td>\n",
              "      <td>0.12</td>\n",
              "      <td>3178.5</td>\n",
              "      <td>-15.5</td>\n",
              "      <td>0.15</td>\n",
              "      <td>10.67</td>\n",
              "      <td>-1.56</td>\n",
              "      <td>5795</td>\n",
              "      <td>-12.1</td>\n",
              "      <td>17.9</td>\n",
              "      <td>10330</td>\n",
              "      <td>-55</td>\n",
              "      <td>0</td>\n",
              "    </tr>\n",
              "    <tr>\n",
              "      <th>1</th>\n",
              "      <td>2.8</td>\n",
              "      <td>3.2</td>\n",
              "      <td>3.3</td>\n",
              "      <td>2.7</td>\n",
              "      <td>3.3</td>\n",
              "      <td>3.2</td>\n",
              "      <td>2.9</td>\n",
              "      <td>2.8</td>\n",
              "      <td>3.1</td>\n",
              "      <td>3.4</td>\n",
              "      <td>4.2</td>\n",
              "      <td>4.5</td>\n",
              "      <td>4.5</td>\n",
              "      <td>4.3</td>\n",
              "      <td>5.5</td>\n",
              "      <td>5.1</td>\n",
              "      <td>3.8</td>\n",
              "      <td>3</td>\n",
              "      <td>2.6</td>\n",
              "      <td>3</td>\n",
              "      <td>2.2</td>\n",
              "      <td>2.3</td>\n",
              "      <td>2.5</td>\n",
              "      <td>2.8</td>\n",
              "      <td>5.5</td>\n",
              "      <td>3.4</td>\n",
              "      <td>15.1</td>\n",
              "      <td>15.3</td>\n",
              "      <td>15.6</td>\n",
              "      <td>15.6</td>\n",
              "      <td>15.9</td>\n",
              "      <td>16.2</td>\n",
              "      <td>16.2</td>\n",
              "      <td>16.2</td>\n",
              "      <td>16.6</td>\n",
              "      <td>17.8</td>\n",
              "      <td>19.4</td>\n",
              "      <td>20.6</td>\n",
              "      <td>21.2</td>\n",
              "      <td>21.8</td>\n",
              "      <td>22.4</td>\n",
              "      <td>22.1</td>\n",
              "      <td>20.8</td>\n",
              "      <td>19.1</td>\n",
              "      <td>18.1</td>\n",
              "      <td>17.2</td>\n",
              "      <td>16.5</td>\n",
              "      <td>16.1</td>\n",
              "      <td>16</td>\n",
              "      <td>16.2</td>\n",
              "      <td>22.4</td>\n",
              "      <td>17.8</td>\n",
              "      <td>9</td>\n",
              "      <td>0.25</td>\n",
              "      <td>-0.41</td>\n",
              "      <td>9.53</td>\n",
              "      <td>1594.5</td>\n",
              "      <td>-2.2</td>\n",
              "      <td>0.96</td>\n",
              "      <td>8.24</td>\n",
              "      <td>7.3</td>\n",
              "      <td>3172</td>\n",
              "      <td>-14.5</td>\n",
              "      <td>0.48</td>\n",
              "      <td>8.39</td>\n",
              "      <td>3.84</td>\n",
              "      <td>5805</td>\n",
              "      <td>14.05</td>\n",
              "      <td>29</td>\n",
              "      <td>10275</td>\n",
              "      <td>-55</td>\n",
              "      <td>0</td>\n",
              "    </tr>\n",
              "    <tr>\n",
              "      <th>2</th>\n",
              "      <td>2.9</td>\n",
              "      <td>2.8</td>\n",
              "      <td>2.6</td>\n",
              "      <td>2.1</td>\n",
              "      <td>2.2</td>\n",
              "      <td>2.5</td>\n",
              "      <td>2.5</td>\n",
              "      <td>2.7</td>\n",
              "      <td>2.2</td>\n",
              "      <td>2.5</td>\n",
              "      <td>3.1</td>\n",
              "      <td>4</td>\n",
              "      <td>4.4</td>\n",
              "      <td>4.6</td>\n",
              "      <td>5.6</td>\n",
              "      <td>5.4</td>\n",
              "      <td>5.2</td>\n",
              "      <td>4.4</td>\n",
              "      <td>3.5</td>\n",
              "      <td>2.7</td>\n",
              "      <td>2.9</td>\n",
              "      <td>3.9</td>\n",
              "      <td>4.1</td>\n",
              "      <td>4.6</td>\n",
              "      <td>5.6</td>\n",
              "      <td>3.5</td>\n",
              "      <td>16.6</td>\n",
              "      <td>16.7</td>\n",
              "      <td>16.7</td>\n",
              "      <td>16.8</td>\n",
              "      <td>16.8</td>\n",
              "      <td>16.8</td>\n",
              "      <td>16.9</td>\n",
              "      <td>16.9</td>\n",
              "      <td>17.1</td>\n",
              "      <td>17.6</td>\n",
              "      <td>19.1</td>\n",
              "      <td>21.3</td>\n",
              "      <td>21.8</td>\n",
              "      <td>22</td>\n",
              "      <td>22.1</td>\n",
              "      <td>22.2</td>\n",
              "      <td>21.3</td>\n",
              "      <td>19.8</td>\n",
              "      <td>18.6</td>\n",
              "      <td>18</td>\n",
              "      <td>18</td>\n",
              "      <td>18.2</td>\n",
              "      <td>18.3</td>\n",
              "      <td>18.4</td>\n",
              "      <td>22.2</td>\n",
              "      <td>18.7</td>\n",
              "      <td>9</td>\n",
              "      <td>0.56</td>\n",
              "      <td>0.89</td>\n",
              "      <td>10.17</td>\n",
              "      <td>1568.5</td>\n",
              "      <td>0.9</td>\n",
              "      <td>0.54</td>\n",
              "      <td>3.8</td>\n",
              "      <td>4.42</td>\n",
              "      <td>3160</td>\n",
              "      <td>-15.9</td>\n",
              "      <td>0.6</td>\n",
              "      <td>6.94</td>\n",
              "      <td>9.8</td>\n",
              "      <td>5790</td>\n",
              "      <td>17.9</td>\n",
              "      <td>41.3</td>\n",
              "      <td>10235</td>\n",
              "      <td>-40</td>\n",
              "      <td>0</td>\n",
              "    </tr>\n",
              "    <tr>\n",
              "      <th>3</th>\n",
              "      <td>4.7</td>\n",
              "      <td>3.8</td>\n",
              "      <td>3.7</td>\n",
              "      <td>3.8</td>\n",
              "      <td>2.9</td>\n",
              "      <td>3.1</td>\n",
              "      <td>2.8</td>\n",
              "      <td>2.5</td>\n",
              "      <td>2.4</td>\n",
              "      <td>3.1</td>\n",
              "      <td>3.3</td>\n",
              "      <td>3.1</td>\n",
              "      <td>2.3</td>\n",
              "      <td>2.1</td>\n",
              "      <td>2.2</td>\n",
              "      <td>3.8</td>\n",
              "      <td>2.8</td>\n",
              "      <td>2.4</td>\n",
              "      <td>1.9</td>\n",
              "      <td>3.2</td>\n",
              "      <td>4.1</td>\n",
              "      <td>3.9</td>\n",
              "      <td>4.5</td>\n",
              "      <td>4.3</td>\n",
              "      <td>4.7</td>\n",
              "      <td>3.2</td>\n",
              "      <td>18.3</td>\n",
              "      <td>18.2</td>\n",
              "      <td>18.3</td>\n",
              "      <td>18.4</td>\n",
              "      <td>18.6</td>\n",
              "      <td>18.6</td>\n",
              "      <td>18.5</td>\n",
              "      <td>18.7</td>\n",
              "      <td>18.6</td>\n",
              "      <td>18.8</td>\n",
              "      <td>19</td>\n",
              "      <td>19</td>\n",
              "      <td>19.3</td>\n",
              "      <td>19.4</td>\n",
              "      <td>19.6</td>\n",
              "      <td>19.2</td>\n",
              "      <td>18.9</td>\n",
              "      <td>18.8</td>\n",
              "      <td>18.6</td>\n",
              "      <td>18.5</td>\n",
              "      <td>18.3</td>\n",
              "      <td>18.5</td>\n",
              "      <td>18.8</td>\n",
              "      <td>18.9</td>\n",
              "      <td>19.6</td>\n",
              "      <td>18.7</td>\n",
              "      <td>9.9</td>\n",
              "      <td>0.89</td>\n",
              "      <td>-0.34</td>\n",
              "      <td>8.58</td>\n",
              "      <td>1546.5</td>\n",
              "      <td>3</td>\n",
              "      <td>0.77</td>\n",
              "      <td>4.17</td>\n",
              "      <td>8.11</td>\n",
              "      <td>3145.5</td>\n",
              "      <td>-16.8</td>\n",
              "      <td>0.49</td>\n",
              "      <td>8.73</td>\n",
              "      <td>10.54</td>\n",
              "      <td>5775</td>\n",
              "      <td>31.15</td>\n",
              "      <td>51.7</td>\n",
              "      <td>10195</td>\n",
              "      <td>-40</td>\n",
              "      <td>2.08</td>\n",
              "    </tr>\n",
              "    <tr>\n",
              "      <th>6</th>\n",
              "      <td>3.7</td>\n",
              "      <td>3.2</td>\n",
              "      <td>3.8</td>\n",
              "      <td>5.1</td>\n",
              "      <td>6</td>\n",
              "      <td>7</td>\n",
              "      <td>6.3</td>\n",
              "      <td>6.4</td>\n",
              "      <td>6.3</td>\n",
              "      <td>5.4</td>\n",
              "      <td>6.1</td>\n",
              "      <td>6.4</td>\n",
              "      <td>6.1</td>\n",
              "      <td>5.8</td>\n",
              "      <td>6.2</td>\n",
              "      <td>6.2</td>\n",
              "      <td>5.5</td>\n",
              "      <td>4.8</td>\n",
              "      <td>5.5</td>\n",
              "      <td>6.1</td>\n",
              "      <td>5</td>\n",
              "      <td>3.1</td>\n",
              "      <td>2.2</td>\n",
              "      <td>1.6</td>\n",
              "      <td>7</td>\n",
              "      <td>5.2</td>\n",
              "      <td>15.6</td>\n",
              "      <td>15.6</td>\n",
              "      <td>15.5</td>\n",
              "      <td>15.8</td>\n",
              "      <td>14.7</td>\n",
              "      <td>12</td>\n",
              "      <td>10.4</td>\n",
              "      <td>9</td>\n",
              "      <td>8.1</td>\n",
              "      <td>8.4</td>\n",
              "      <td>8.8</td>\n",
              "      <td>8.8</td>\n",
              "      <td>8.7</td>\n",
              "      <td>8.6</td>\n",
              "      <td>8.3</td>\n",
              "      <td>8.2</td>\n",
              "      <td>7.8</td>\n",
              "      <td>7.7</td>\n",
              "      <td>7.4</td>\n",
              "      <td>7.3</td>\n",
              "      <td>7.3</td>\n",
              "      <td>7.1</td>\n",
              "      <td>6.6</td>\n",
              "      <td>5.7</td>\n",
              "      <td>15.8</td>\n",
              "      <td>9.7</td>\n",
              "      <td>12.6</td>\n",
              "      <td>0.98</td>\n",
              "      <td>0.48</td>\n",
              "      <td>7.46</td>\n",
              "      <td>1413</td>\n",
              "      <td>4.6</td>\n",
              "      <td>0.53</td>\n",
              "      <td>13.36</td>\n",
              "      <td>15.34</td>\n",
              "      <td>3027.5</td>\n",
              "      <td>-11.8</td>\n",
              "      <td>0.84</td>\n",
              "      <td>6.86</td>\n",
              "      <td>25.6</td>\n",
              "      <td>5695</td>\n",
              "      <td>26.75</td>\n",
              "      <td>48.45</td>\n",
              "      <td>10040</td>\n",
              "      <td>-80</td>\n",
              "      <td>0.18</td>\n",
              "    </tr>\n",
              "  </tbody>\n",
              "</table>\n",
              "</div>"
            ],
            "text/plain": [
              "    1    2    3    4    5    6   ...    67     68     69     70   71    72\n",
              "0  0.8  1.8  2.4  2.1    2  2.1  ...  5795  -12.1   17.9  10330  -55     0\n",
              "1  2.8  3.2  3.3  2.7  3.3  3.2  ...  5805  14.05     29  10275  -55     0\n",
              "2  2.9  2.8  2.6  2.1  2.2  2.5  ...  5790   17.9   41.3  10235  -40     0\n",
              "3  4.7  3.8  3.7  3.8  2.9  3.1  ...  5775  31.15   51.7  10195  -40  2.08\n",
              "6  3.7  3.2  3.8  5.1    6    7  ...  5695  26.75  48.45  10040  -80  0.18\n",
              "\n",
              "[5 rows x 72 columns]"
            ]
          },
          "metadata": {
            "tags": []
          },
          "execution_count": 38
        }
      ]
    },
    {
      "cell_type": "code",
      "metadata": {
        "id": "UnDjhCEwig5G",
        "colab_type": "code",
        "colab": {
          "base_uri": "https://localhost:8080/",
          "height": 33
        },
        "outputId": "436d4cd9-2ba8-4108-ea29-77a33740ccbb"
      },
      "source": [
        "df1.shape"
      ],
      "execution_count": 39,
      "outputs": [
        {
          "output_type": "execute_result",
          "data": {
            "text/plain": [
              "(1848, 72)"
            ]
          },
          "metadata": {
            "tags": []
          },
          "execution_count": 39
        }
      ]
    },
    {
      "cell_type": "code",
      "metadata": {
        "id": "Lv4CilZFig7U",
        "colab_type": "code",
        "colab": {
          "base_uri": "https://localhost:8080/",
          "height": 33
        },
        "outputId": "51e79712-8eae-4af1-ac4a-d95bbd8ff373"
      },
      "source": [
        "scaler.fit(df1)"
      ],
      "execution_count": 40,
      "outputs": [
        {
          "output_type": "execute_result",
          "data": {
            "text/plain": [
              "StandardScaler(copy=True, with_mean=True, with_std=True)"
            ]
          },
          "metadata": {
            "tags": []
          },
          "execution_count": 40
        }
      ]
    },
    {
      "cell_type": "code",
      "metadata": {
        "id": "YGb-bqeaig-Q",
        "colab_type": "code",
        "colab": {}
      },
      "source": [
        "scaled_features = scaler.transform(df1)"
      ],
      "execution_count": 0,
      "outputs": []
    },
    {
      "cell_type": "code",
      "metadata": {
        "id": "CWrWCIoLjclO",
        "colab_type": "code",
        "colab": {}
      },
      "source": [
        "train_pct_index = int(0.9 * len(scaled_features))\n",
        "X_train, X_test = scaled_features[:train_pct_index], scaled_features[train_pct_index:]\n",
        "y_train, y_test = y[:train_pct_index], y[train_pct_index:]"
      ],
      "execution_count": 0,
      "outputs": []
    },
    {
      "cell_type": "code",
      "metadata": {
        "id": "j2-6NGRAjcoB",
        "colab_type": "code",
        "colab": {
          "base_uri": "https://localhost:8080/",
          "height": 33
        },
        "outputId": "d6d01d00-76c3-403f-95fa-4466849351bc"
      },
      "source": [
        "X_train.shape, X_test.shape"
      ],
      "execution_count": 43,
      "outputs": [
        {
          "output_type": "execute_result",
          "data": {
            "text/plain": [
              "((1663, 72), (185, 72))"
            ]
          },
          "metadata": {
            "tags": []
          },
          "execution_count": 43
        }
      ]
    },
    {
      "cell_type": "code",
      "metadata": {
        "id": "MPcg3GSijcqF",
        "colab_type": "code",
        "colab": {
          "base_uri": "https://localhost:8080/",
          "height": 33
        },
        "outputId": "4601c454-f6ab-48df-945c-1c401094adad"
      },
      "source": [
        "y_train.shape, y_test.shape"
      ],
      "execution_count": 44,
      "outputs": [
        {
          "output_type": "execute_result",
          "data": {
            "text/plain": [
              "((1663,), (185,))"
            ]
          },
          "metadata": {
            "tags": []
          },
          "execution_count": 44
        }
      ]
    },
    {
      "cell_type": "code",
      "metadata": {
        "id": "6iqxdp2TjctY",
        "colab_type": "code",
        "colab": {}
      },
      "source": [
        "from sklearn.tree import DecisionTreeClassifier\n",
        "tree = DecisionTreeClassifier()\n",
        "start=t.time()\n",
        "tree.fit(X_train, y_train)\n",
        "end=t.time()\n",
        "tt=(end-start)"
      ],
      "execution_count": 0,
      "outputs": []
    },
    {
      "cell_type": "code",
      "metadata": {
        "id": "aWybQ3XOjcyb",
        "colab_type": "code",
        "colab": {}
      },
      "source": [
        "y_pred = tree.predict(X_test)"
      ],
      "execution_count": 0,
      "outputs": []
    },
    {
      "cell_type": "code",
      "metadata": {
        "id": "EtxZ8qBBjc0n",
        "colab_type": "code",
        "colab": {}
      },
      "source": [
        "from sklearn.metrics import accuracy_score"
      ],
      "execution_count": 0,
      "outputs": []
    },
    {
      "cell_type": "code",
      "metadata": {
        "id": "nOLZ5a9hjc4B",
        "colab_type": "code",
        "colab": {
          "base_uri": "https://localhost:8080/",
          "height": 84
        },
        "outputId": "f418aa4d-33a7-48b4-d13c-2fe90bedc789"
      },
      "source": [
        "print('\\nTest accuracy:',(accuracy_score(y_test, y_pred)))\n",
        "print('\\nTime taken:',tt)"
      ],
      "execution_count": 48,
      "outputs": [
        {
          "output_type": "stream",
          "text": [
            "\n",
            "Test accuracy: 0.9783783783783784\n",
            "\n",
            "Time taken: 0.0708465576171875\n"
          ],
          "name": "stdout"
        }
      ]
    },
    {
      "cell_type": "code",
      "metadata": {
        "id": "m0bOFeKqjcjM",
        "colab_type": "code",
        "colab": {}
      },
      "source": [
        ""
      ],
      "execution_count": 0,
      "outputs": []
    }
  ]
}